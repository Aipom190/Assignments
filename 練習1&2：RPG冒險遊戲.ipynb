{
 "cells": [
  {
   "cell_type": "code",
   "execution_count": 1,
   "id": "6b81e32c",
   "metadata": {},
   "outputs": [],
   "source": [
    "def displayInventory(inv): \n",
    "    print('裝備：')\n",
    "    for ioi, qoi in inv.items(): \n",
    "        print(qoi, ioi)\n",
    "    print(f'裝備總數：{sum(inv.values())}')"
   ]
  },
  {
   "cell_type": "code",
   "execution_count": 2,
   "id": "c2c42fff",
   "metadata": {},
   "outputs": [
    {
     "name": "stdout",
     "output_type": "stream",
     "text": [
      "裝備：\n",
      "1 索仔\n",
      "6 火把\n",
      "42 銀角仔\n",
      "1 刀仔\n",
      "12 箭\n",
      "裝備總數：62\n"
     ]
    }
   ],
   "source": [
    "inventory = {'索仔': 1, '火把': 6, '銀角仔': 42, '刀仔': 1, '箭': 12}\n",
    "displayInventory(inventory)"
   ]
  },
  {
   "cell_type": "code",
   "execution_count": 3,
   "id": "c9b5a76c",
   "metadata": {},
   "outputs": [],
   "source": [
    "def addToInventory(inv, addedItems):\n",
    "    addedItemsSet = set(addedItems)\n",
    "    for iod in addedItemsSet:\n",
    "        if iod in inv:\n",
    "            inv[iod] = inv[iod] + addedItems.count(iod)\n",
    "        else:\n",
    "            inv[iod] = addedItems.count(iod)\n",
    "    return inv"
   ]
  },
  {
   "cell_type": "code",
   "execution_count": 4,
   "id": "747738d6",
   "metadata": {},
   "outputs": [
    {
     "name": "stdout",
     "output_type": "stream",
     "text": [
      "裝備：\n",
      "1 索仔\n",
      "6 火把\n",
      "45 銀角仔\n",
      "2 刀仔\n",
      "12 箭\n",
      "1 紅寶石\n",
      "裝備總數：67\n"
     ]
    }
   ],
   "source": [
    "inventory = {'索仔': 1, '火把': 6, '銀角仔': 42, '刀仔': 1, '箭': 12}\n",
    "dragonLoot = ['銀角仔', '刀仔', '銀角仔', '銀角仔', '紅寶石']\n",
    "inventory = addToInventory(inventory, dragonLoot)\n",
    "displayInventory(inventory)"
   ]
  },
  {
   "cell_type": "code",
   "execution_count": null,
   "id": "a4c115fe",
   "metadata": {},
   "outputs": [],
   "source": []
  }
 ],
 "metadata": {
  "kernelspec": {
   "display_name": "Python 3 (ipykernel)",
   "language": "python",
   "name": "python3"
  },
  "language_info": {
   "codemirror_mode": {
    "name": "ipython",
    "version": 3
   },
   "file_extension": ".py",
   "mimetype": "text/x-python",
   "name": "python",
   "nbconvert_exporter": "python",
   "pygments_lexer": "ipython3",
   "version": "3.11.4"
  }
 },
 "nbformat": 4,
 "nbformat_minor": 5
}
