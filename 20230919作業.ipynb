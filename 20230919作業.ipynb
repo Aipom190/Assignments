{
 "cells": [
  {
   "cell_type": "code",
   "execution_count": 84,
   "id": "0456defa",
   "metadata": {},
   "outputs": [
    {
     "name": "stdout",
     "output_type": "stream",
     "text": [
      "8\n"
     ]
    }
   ],
   "source": [
    "list=[1,3,5,7,2,4,6,8] #建立一個數字串列\n",
    "print(len(list)) #列印串列的長度"
   ]
  },
  {
   "cell_type": "code",
   "execution_count": 85,
   "id": "292e4123",
   "metadata": {},
   "outputs": [
    {
     "name": "stdout",
     "output_type": "stream",
     "text": [
      "[1, 3, 5, 7, 2, 4, 6, 8, 9]\n"
     ]
    }
   ],
   "source": [
    "list[0:]=[1,3,5,7,2,4,6,8,9] #在串列的末尾新增一個數字\n",
    "print(list) #列印串列"
   ]
  },
  {
   "cell_type": "code",
   "execution_count": 86,
   "id": "50f510e4",
   "metadata": {},
   "outputs": [
    {
     "name": "stdout",
     "output_type": "stream",
     "text": [
      "[3, 5, 7, 2, 4, 6, 8, 9]\n"
     ]
    }
   ],
   "source": [
    "del list[0] #從串列中移除第一個數字\n",
    "print(list) #列印串列"
   ]
  },
  {
   "cell_type": "code",
   "execution_count": 87,
   "id": "af094d6d",
   "metadata": {},
   "outputs": [
    {
     "name": "stdout",
     "output_type": "stream",
     "text": [
      "[2, 3, 4, 5, 6, 7, 8, 9]\n"
     ]
    }
   ],
   "source": [
    "list=sorted(list) #將串列排序為升序\n",
    "print(list) #列印串列"
   ]
  },
  {
   "cell_type": "code",
   "execution_count": 88,
   "id": "8966df23",
   "metadata": {},
   "outputs": [
    {
     "name": "stdout",
     "output_type": "stream",
     "text": [
      "[9, 8, 7, 6, 5, 4, 3, 2]\n"
     ]
    }
   ],
   "source": [
    "list=sorted(list,reverse=True) #反轉串列\n",
    "print(list) #列印串列"
   ]
  },
  {
   "cell_type": "code",
   "execution_count": 89,
   "id": "7038931c",
   "metadata": {},
   "outputs": [
    {
     "data": {
      "text/plain": [
       "2"
      ]
     },
     "execution_count": 89,
     "metadata": {},
     "output_type": "execute_result"
    }
   ],
   "source": [
    "list.index(7) #在串列中尋找7的索引"
   ]
  },
  {
   "cell_type": "code",
   "execution_count": 90,
   "id": "31d215d9",
   "metadata": {},
   "outputs": [
    {
     "data": {
      "text/plain": [
       "True"
      ]
     },
     "execution_count": 90,
     "metadata": {},
     "output_type": "execute_result"
    }
   ],
   "source": [
    "4 in list #檢查4是否在串列中"
   ]
  },
  {
   "cell_type": "code",
   "execution_count": 91,
   "id": "886c3c17",
   "metadata": {},
   "outputs": [
    {
     "data": {
      "text/plain": [
       "False"
      ]
     },
     "execution_count": 91,
     "metadata": {},
     "output_type": "execute_result"
    }
   ],
   "source": [
    "0 in list #檢查0是否在串列中"
   ]
  },
  {
   "cell_type": "code",
   "execution_count": 92,
   "id": "e6f5a605",
   "metadata": {},
   "outputs": [
    {
     "data": {
      "text/plain": [
       "[9, 8, 7, 6, 5, 4, 3, 2]"
      ]
     },
     "execution_count": 92,
     "metadata": {},
     "output_type": "execute_result"
    }
   ],
   "source": [
    "list[:] #取得串列的切片"
   ]
  },
  {
   "cell_type": "code",
   "execution_count": 93,
   "id": "ada0b6d2",
   "metadata": {},
   "outputs": [
    {
     "name": "stdout",
     "output_type": "stream",
     "text": [
      "[1, 3, 5, 7, 2, 4, 6, 8]\n"
     ]
    }
   ],
   "source": [
    "tuple=[1,3,5,7,2,4,6,8] #建立一個數字元組\n",
    "print(tuple) #列印元組"
   ]
  },
  {
   "cell_type": "code",
   "execution_count": 94,
   "id": "9e4e7538",
   "metadata": {},
   "outputs": [
    {
     "data": {
      "text/plain": [
       "True"
      ]
     },
     "execution_count": 94,
     "metadata": {},
     "output_type": "execute_result"
    }
   ],
   "source": [
    "1 in tuple #檢查1是否在元組中"
   ]
  },
  {
   "cell_type": "code",
   "execution_count": 95,
   "id": "23d0b23a",
   "metadata": {},
   "outputs": [
    {
     "data": {
      "text/plain": [
       "False"
      ]
     },
     "execution_count": 95,
     "metadata": {},
     "output_type": "execute_result"
    }
   ],
   "source": [
    "9 in tuple #檢查9是否在元組中"
   ]
  },
  {
   "cell_type": "code",
   "execution_count": 96,
   "id": "e4277687",
   "metadata": {},
   "outputs": [
    {
     "data": {
      "text/plain": [
       "[1, 3, 5, 7, 2, 4, 6, 8]"
      ]
     },
     "execution_count": 96,
     "metadata": {},
     "output_type": "execute_result"
    }
   ],
   "source": [
    "tuple[:] #取得元組的切片"
   ]
  },
  {
   "cell_type": "code",
   "execution_count": null,
   "id": "4b8ddd1d",
   "metadata": {},
   "outputs": [],
   "source": []
  }
 ],
 "metadata": {
  "kernelspec": {
   "display_name": "Python 3 (ipykernel)",
   "language": "python",
   "name": "python3"
  },
  "language_info": {
   "codemirror_mode": {
    "name": "ipython",
    "version": 3
   },
   "file_extension": ".py",
   "mimetype": "text/x-python",
   "name": "python",
   "nbconvert_exporter": "python",
   "pygments_lexer": "ipython3",
   "version": "3.11.4"
  }
 },
 "nbformat": 4,
 "nbformat_minor": 5
}
