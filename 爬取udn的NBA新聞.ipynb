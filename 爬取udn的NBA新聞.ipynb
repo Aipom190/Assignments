{
 "cells": [
  {
   "cell_type": "code",
   "execution_count": 1,
   "id": "f020768a",
   "metadata": {},
   "outputs": [],
   "source": [
    "import tool\n",
    "from tool import get_soup"
   ]
  },
  {
   "cell_type": "code",
   "execution_count": 2,
   "id": "6c672177",
   "metadata": {},
   "outputs": [],
   "source": [
    "url = 'https://tw-nba.udn.com/nba/cate/6754'\n",
    "soup = get_soup(url)"
   ]
  },
  {
   "cell_type": "code",
   "execution_count": 3,
   "id": "43629897",
   "metadata": {},
   "outputs": [],
   "source": [
    "datas = []\n",
    "def Get_news():\n",
    "    cfs = soup.find(id = 'news_list_body').find_all('dt')\n",
    "    for cf in cfs:\n",
    "        try:\n",
    "            title = cf.find('h3').text.strip()\n",
    "            content = cf.find('p').text.strip()\n",
    "            news_url = cf.find('a').get('href')\n",
    "            img_url = cf.find('img').get('data-src')\n",
    "            print(title, content, news_url, img_url)\n",
    "            datas.append([title, content, news_url, img_url])\n",
    "        except Exception as e:\n",
    "             print(e)"
   ]
  },
  {
   "cell_type": "code",
   "execution_count": 4,
   "id": "cec2f3b8",
   "metadata": {},
   "outputs": [
    {
     "name": "stdout",
     "output_type": "stream",
     "text": [
      "NBA／約柯奇準大三元力退唐西奇 厄文回歸獨行俠苦吞首敗 約柯奇（Nikola Jokic）和唐西奇（Luka Doncic）兩大歐陸球星今天在季中錦標賽正... https://tw-nba.udn.com/nba/story/7002/7551387 https://pgw.udn.com.tw/gw/photo.php?u=https://uc.udn.com.tw/photo/2023/11/04/0/26843369.jpg&s=Y&x=80&y=16&sw=1197&sh=798&exp=3600&w=220\n",
      "NBA／吉迪先碰網拯救了格林 柯瑞致勝上籃柯爾喊僥倖 繼前一場湯普森（Klay Thompson）在剩下0.2秒上演致勝跳投後，柯瑞（Stephen C... https://tw-nba.udn.com/nba/story/7002/7551326 https://pgw.udn.com.tw/gw/photo.php?u=https://uc.udn.com.tw/photo/2023/11/04/0/26842592.jpg&s=Y&x=32&y=12&sw=1189&sh=793&exp=3600&w=220\n",
      "NBA／赫洛準大三元熱火止4連敗 巴特勒：防守還不夠好 在熱火不敵籃網苦吞4連敗的比賽結束後，赫洛（Tyler Herro）直言雖然現在才剛開季，但不能夠... https://tw-nba.udn.com/nba/story/7002/7551238 https://pgw.udn.com.tw/gw/photo.php?u=https://uc.udn.com.tw/photo/2023/11/04/0/26841312.jpg&s=Y&x=28&y=12&sw=1233&sh=822&exp=3600&w=220\n",
      "NBA／格林差點毀了柯瑞致勝球 勇士連兩戰準絕殺奪5連勝 勇士今天作客雷霆主場進行季中錦標賽，兩隊在整場比賽一路拉鋸下，在正規賽倒數0.2秒勇士主控柯瑞（S... https://tw-nba.udn.com/nba/story/7002/7551145 https://pgw.udn.com.tw/gw/photo.php?u=https://uc.udn.com.tw/photo/2023/11/04/1/26842833.jpg&x=&y=&sw=&sh=&exp=3600&w=220\n",
      "NBA／里拉德關鍵球助公鹿險勝 布朗森生涯次高45分做白工 「防守端的破洞只能靠進攻火力來填補」，對開季以來團隊防守效率跌到聯盟倒數的公鹿來說，這或許是眼前取... https://tw-nba.udn.com/nba/story/7002/7551076 https://pgw.udn.com.tw/gw/photo.php?u=https://uc.udn.com.tw/photo/2023/11/04/0/26839820.jpg&s=Y&x=56&y=8&sw=1223&sh=815&exp=3600&w=220\n",
      "NBA／公鹿防守效率跌谷底 安戴托昆波：訝異磨合要這麼久 季前大動作換來超級射手里拉德（Damian Lillard），他與「希臘怪物」安戴托昆波（Gian... https://tw-nba.udn.com/nba/story/7002/7551033 https://pgw.udn.com.tw/gw/photo.php?u=https://uc.udn.com.tw/photo/2023/11/04/0/26839246.jpg&s=Y&x=40&y=16&sw=1170&sh=780&exp=3600&w=220\n",
      "NBA／哈利伯頓末節接管戰局 溜馬奪季中錦標賽歷史首勝 NBA季中錦標賽在今天展開首個比賽日，首場比賽就由溜馬在主場迎戰騎士，上半場打完一度取得17分領先... https://tw-nba.udn.com/nba/story/7002/7551013 https://pgw.udn.com.tw/gw/photo.php?u=https://uc.udn.com.tw/photo/2023/11/04/1/26838940.jpg&s=Y&x=0&y=0&sw=1277&sh=852&exp=3600&w=220\n",
      "NBA／季中錦標賽綠衫軍被看好奪冠 杜蘭特成MVP大熱門 NBA首度舉行的季中錦標賽今天開打，賽事將一路進行到12月10日決定出第一次季中錦標賽的冠軍隊伍，... https://tw-nba.udn.com/nba/story/7002/7550977 https://pgw.udn.com.tw/gw/photo.php?u=https://uc.udn.com.tw/photo/2023/11/04/1/26837939.jpg&s=Y&x=0&y=0&sw=1280&sh=853&exp=3600&w=220\n",
      "NBA／馬刺雙塔後繼有人 溫班亞瑪一戰比肩一堆傳奇 身為聯盟近年最受關注的超級新人，馬刺隊溫班亞瑪在昨天與太陽隊之戰打出代表作，以單場38分、10籃板... https://tw-nba.udn.com/nba/story/7002/7550595 https://pgw.udn.com.tw/gw/photo.php?u=https://uc.udn.com.tw/photo/2023/11/04/1/26837505.jpg&s=Y&x=0&y=0&sw=1280&sh=853&exp=3600&w=220\n",
      "NBA／季中錦標賽6大分組出爐 焦點對戰組合正面廝殺 即將上路的NBA季中錦標賽在今天正式公佈分組，東西兩區總共分成6個分組，將取8支球隊晉級淘汰賽，季... https://tw-nba.udn.com/nba/story/7002/7288027 https://pgw.udn.com.tw/gw/photo.php?u=https://uc.udn.com.tw/photo/2023/07/09/0/23102946.jpg&s=Y&x=8&y=12&sw=1027&sh=684&exp=3600&w=220\n"
     ]
    }
   ],
   "source": [
    "Get_news()"
   ]
  },
  {
   "cell_type": "code",
   "execution_count": 5,
   "id": "c95ace6b",
   "metadata": {},
   "outputs": [],
   "source": [
    "import pandas as pd\n",
    "df=pd.DataFrame(datas, columns=['標題', '摘要', '新聞連結', '圖片連結'])"
   ]
  },
  {
   "cell_type": "code",
   "execution_count": 6,
   "id": "eb14e9d1",
   "metadata": {},
   "outputs": [
    {
     "data": {
      "text/html": [
       "<div>\n",
       "<style scoped>\n",
       "    .dataframe tbody tr th:only-of-type {\n",
       "        vertical-align: middle;\n",
       "    }\n",
       "\n",
       "    .dataframe tbody tr th {\n",
       "        vertical-align: top;\n",
       "    }\n",
       "\n",
       "    .dataframe thead th {\n",
       "        text-align: right;\n",
       "    }\n",
       "</style>\n",
       "<table border=\"1\" class=\"dataframe\">\n",
       "  <thead>\n",
       "    <tr style=\"text-align: right;\">\n",
       "      <th></th>\n",
       "      <th>標題</th>\n",
       "      <th>摘要</th>\n",
       "      <th>新聞連結</th>\n",
       "      <th>圖片連結</th>\n",
       "    </tr>\n",
       "  </thead>\n",
       "  <tbody>\n",
       "    <tr>\n",
       "      <th>0</th>\n",
       "      <td>NBA／約柯奇準大三元力退唐西奇 厄文回歸獨行俠苦吞首敗</td>\n",
       "      <td>約柯奇（Nikola Jokic）和唐西奇（Luka Doncic）兩大歐陸球星今天在季中錦...</td>\n",
       "      <td>https://tw-nba.udn.com/nba/story/7002/7551387</td>\n",
       "      <td>https://pgw.udn.com.tw/gw/photo.php?u=https://...</td>\n",
       "    </tr>\n",
       "    <tr>\n",
       "      <th>1</th>\n",
       "      <td>NBA／吉迪先碰網拯救了格林 柯瑞致勝上籃柯爾喊僥倖</td>\n",
       "      <td>繼前一場湯普森（Klay Thompson）在剩下0.2秒上演致勝跳投後，柯瑞（Stephe...</td>\n",
       "      <td>https://tw-nba.udn.com/nba/story/7002/7551326</td>\n",
       "      <td>https://pgw.udn.com.tw/gw/photo.php?u=https://...</td>\n",
       "    </tr>\n",
       "    <tr>\n",
       "      <th>2</th>\n",
       "      <td>NBA／赫洛準大三元熱火止4連敗 巴特勒：防守還不夠好</td>\n",
       "      <td>在熱火不敵籃網苦吞4連敗的比賽結束後，赫洛（Tyler Herro）直言雖然現在才剛開季，但...</td>\n",
       "      <td>https://tw-nba.udn.com/nba/story/7002/7551238</td>\n",
       "      <td>https://pgw.udn.com.tw/gw/photo.php?u=https://...</td>\n",
       "    </tr>\n",
       "    <tr>\n",
       "      <th>3</th>\n",
       "      <td>NBA／格林差點毀了柯瑞致勝球 勇士連兩戰準絕殺奪5連勝</td>\n",
       "      <td>勇士今天作客雷霆主場進行季中錦標賽，兩隊在整場比賽一路拉鋸下，在正規賽倒數0.2秒勇士主控柯...</td>\n",
       "      <td>https://tw-nba.udn.com/nba/story/7002/7551145</td>\n",
       "      <td>https://pgw.udn.com.tw/gw/photo.php?u=https://...</td>\n",
       "    </tr>\n",
       "    <tr>\n",
       "      <th>4</th>\n",
       "      <td>NBA／里拉德關鍵球助公鹿險勝 布朗森生涯次高45分做白工</td>\n",
       "      <td>「防守端的破洞只能靠進攻火力來填補」，對開季以來團隊防守效率跌到聯盟倒數的公鹿來說，這或許是...</td>\n",
       "      <td>https://tw-nba.udn.com/nba/story/7002/7551076</td>\n",
       "      <td>https://pgw.udn.com.tw/gw/photo.php?u=https://...</td>\n",
       "    </tr>\n",
       "    <tr>\n",
       "      <th>5</th>\n",
       "      <td>NBA／公鹿防守效率跌谷底 安戴托昆波：訝異磨合要這麼久</td>\n",
       "      <td>季前大動作換來超級射手里拉德（Damian Lillard），他與「希臘怪物」安戴托昆波（G...</td>\n",
       "      <td>https://tw-nba.udn.com/nba/story/7002/7551033</td>\n",
       "      <td>https://pgw.udn.com.tw/gw/photo.php?u=https://...</td>\n",
       "    </tr>\n",
       "    <tr>\n",
       "      <th>6</th>\n",
       "      <td>NBA／哈利伯頓末節接管戰局 溜馬奪季中錦標賽歷史首勝</td>\n",
       "      <td>NBA季中錦標賽在今天展開首個比賽日，首場比賽就由溜馬在主場迎戰騎士，上半場打完一度取得17...</td>\n",
       "      <td>https://tw-nba.udn.com/nba/story/7002/7551013</td>\n",
       "      <td>https://pgw.udn.com.tw/gw/photo.php?u=https://...</td>\n",
       "    </tr>\n",
       "    <tr>\n",
       "      <th>7</th>\n",
       "      <td>NBA／季中錦標賽綠衫軍被看好奪冠 杜蘭特成MVP大熱門</td>\n",
       "      <td>NBA首度舉行的季中錦標賽今天開打，賽事將一路進行到12月10日決定出第一次季中錦標賽的冠軍...</td>\n",
       "      <td>https://tw-nba.udn.com/nba/story/7002/7550977</td>\n",
       "      <td>https://pgw.udn.com.tw/gw/photo.php?u=https://...</td>\n",
       "    </tr>\n",
       "    <tr>\n",
       "      <th>8</th>\n",
       "      <td>NBA／馬刺雙塔後繼有人 溫班亞瑪一戰比肩一堆傳奇</td>\n",
       "      <td>身為聯盟近年最受關注的超級新人，馬刺隊溫班亞瑪在昨天與太陽隊之戰打出代表作，以單場38分、1...</td>\n",
       "      <td>https://tw-nba.udn.com/nba/story/7002/7550595</td>\n",
       "      <td>https://pgw.udn.com.tw/gw/photo.php?u=https://...</td>\n",
       "    </tr>\n",
       "    <tr>\n",
       "      <th>9</th>\n",
       "      <td>NBA／季中錦標賽6大分組出爐 焦點對戰組合正面廝殺</td>\n",
       "      <td>即將上路的NBA季中錦標賽在今天正式公佈分組，東西兩區總共分成6個分組，將取8支球隊晉級淘汰...</td>\n",
       "      <td>https://tw-nba.udn.com/nba/story/7002/7288027</td>\n",
       "      <td>https://pgw.udn.com.tw/gw/photo.php?u=https://...</td>\n",
       "    </tr>\n",
       "  </tbody>\n",
       "</table>\n",
       "</div>"
      ],
      "text/plain": [
       "                              標題  \\\n",
       "0   NBA／約柯奇準大三元力退唐西奇 厄文回歸獨行俠苦吞首敗   \n",
       "1     NBA／吉迪先碰網拯救了格林 柯瑞致勝上籃柯爾喊僥倖   \n",
       "2    NBA／赫洛準大三元熱火止4連敗 巴特勒：防守還不夠好   \n",
       "3   NBA／格林差點毀了柯瑞致勝球 勇士連兩戰準絕殺奪5連勝   \n",
       "4  NBA／里拉德關鍵球助公鹿險勝 布朗森生涯次高45分做白工   \n",
       "5   NBA／公鹿防守效率跌谷底 安戴托昆波：訝異磨合要這麼久   \n",
       "6    NBA／哈利伯頓末節接管戰局 溜馬奪季中錦標賽歷史首勝   \n",
       "7   NBA／季中錦標賽綠衫軍被看好奪冠 杜蘭特成MVP大熱門   \n",
       "8      NBA／馬刺雙塔後繼有人 溫班亞瑪一戰比肩一堆傳奇   \n",
       "9     NBA／季中錦標賽6大分組出爐 焦點對戰組合正面廝殺   \n",
       "\n",
       "                                                  摘要  \\\n",
       "0  約柯奇（Nikola Jokic）和唐西奇（Luka Doncic）兩大歐陸球星今天在季中錦...   \n",
       "1  繼前一場湯普森（Klay Thompson）在剩下0.2秒上演致勝跳投後，柯瑞（Stephe...   \n",
       "2  在熱火不敵籃網苦吞4連敗的比賽結束後，赫洛（Tyler Herro）直言雖然現在才剛開季，但...   \n",
       "3  勇士今天作客雷霆主場進行季中錦標賽，兩隊在整場比賽一路拉鋸下，在正規賽倒數0.2秒勇士主控柯...   \n",
       "4  「防守端的破洞只能靠進攻火力來填補」，對開季以來團隊防守效率跌到聯盟倒數的公鹿來說，這或許是...   \n",
       "5  季前大動作換來超級射手里拉德（Damian Lillard），他與「希臘怪物」安戴托昆波（G...   \n",
       "6  NBA季中錦標賽在今天展開首個比賽日，首場比賽就由溜馬在主場迎戰騎士，上半場打完一度取得17...   \n",
       "7  NBA首度舉行的季中錦標賽今天開打，賽事將一路進行到12月10日決定出第一次季中錦標賽的冠軍...   \n",
       "8  身為聯盟近年最受關注的超級新人，馬刺隊溫班亞瑪在昨天與太陽隊之戰打出代表作，以單場38分、1...   \n",
       "9  即將上路的NBA季中錦標賽在今天正式公佈分組，東西兩區總共分成6個分組，將取8支球隊晉級淘汰...   \n",
       "\n",
       "                                            新聞連結  \\\n",
       "0  https://tw-nba.udn.com/nba/story/7002/7551387   \n",
       "1  https://tw-nba.udn.com/nba/story/7002/7551326   \n",
       "2  https://tw-nba.udn.com/nba/story/7002/7551238   \n",
       "3  https://tw-nba.udn.com/nba/story/7002/7551145   \n",
       "4  https://tw-nba.udn.com/nba/story/7002/7551076   \n",
       "5  https://tw-nba.udn.com/nba/story/7002/7551033   \n",
       "6  https://tw-nba.udn.com/nba/story/7002/7551013   \n",
       "7  https://tw-nba.udn.com/nba/story/7002/7550977   \n",
       "8  https://tw-nba.udn.com/nba/story/7002/7550595   \n",
       "9  https://tw-nba.udn.com/nba/story/7002/7288027   \n",
       "\n",
       "                                                圖片連結  \n",
       "0  https://pgw.udn.com.tw/gw/photo.php?u=https://...  \n",
       "1  https://pgw.udn.com.tw/gw/photo.php?u=https://...  \n",
       "2  https://pgw.udn.com.tw/gw/photo.php?u=https://...  \n",
       "3  https://pgw.udn.com.tw/gw/photo.php?u=https://...  \n",
       "4  https://pgw.udn.com.tw/gw/photo.php?u=https://...  \n",
       "5  https://pgw.udn.com.tw/gw/photo.php?u=https://...  \n",
       "6  https://pgw.udn.com.tw/gw/photo.php?u=https://...  \n",
       "7  https://pgw.udn.com.tw/gw/photo.php?u=https://...  \n",
       "8  https://pgw.udn.com.tw/gw/photo.php?u=https://...  \n",
       "9  https://pgw.udn.com.tw/gw/photo.php?u=https://...  "
      ]
     },
     "execution_count": 6,
     "metadata": {},
     "output_type": "execute_result"
    }
   ],
   "source": [
    "df"
   ]
  },
  {
   "cell_type": "code",
   "execution_count": 7,
   "id": "13ec935d",
   "metadata": {},
   "outputs": [],
   "source": [
    "df.to_csv('NBA新聞.csv', encoding='utf-8-sig')"
   ]
  },
  {
   "cell_type": "code",
   "execution_count": null,
   "id": "c7388a50",
   "metadata": {},
   "outputs": [],
   "source": []
  }
 ],
 "metadata": {
  "kernelspec": {
   "display_name": "Python 3 (ipykernel)",
   "language": "python",
   "name": "python3"
  },
  "language_info": {
   "codemirror_mode": {
    "name": "ipython",
    "version": 3
   },
   "file_extension": ".py",
   "mimetype": "text/x-python",
   "name": "python",
   "nbconvert_exporter": "python",
   "pygments_lexer": "ipython3",
   "version": "3.11.4"
  }
 },
 "nbformat": 4,
 "nbformat_minor": 5
}
