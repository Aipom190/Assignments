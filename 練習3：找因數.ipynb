{
 "cells": [
  {
   "cell_type": "code",
   "execution_count": 1,
   "id": "8cabe8f2",
   "metadata": {},
   "outputs": [
    {
     "name": "stdout",
     "output_type": "stream",
     "text": [
      "請給一個正整數。（可按下enter離開）30\n",
      "30 的因數有：[1, 2, 3, 5, 6, 10, 15, 30]\n",
      "請給一個正整數。（可按下enter離開）31\n",
      "31 的因數有：[1, 31]\n",
      "請給一個正整數。（可按下enter離開）0\n",
      "要輸入正整數才行喔！請重新輸入。\n",
      "請給一個正整數。（可按下enter離開）-1\n",
      "要輸入正整數才行喔！請重新輸入。\n",
      "請給一個正整數。（可按下enter離開）a\n",
      "要輸入正整數才行喔！請重新輸入。\n",
      "請給一個正整數。（可按下enter離開）\n",
      "再見！\n"
     ]
    }
   ],
   "source": [
    "while True:\n",
    "    try:\n",
    "        n = input('請給一個正整數。（可按下enter離開）')\n",
    "        factor=[]\n",
    "        if n == '':\n",
    "            print('再見！')\n",
    "            break\n",
    "        elif int(n) <= 0:\n",
    "            print('要輸入正整數才行喔！請重新輸入。')\n",
    "        else:\n",
    "            for a in range(1, int(n) + 1):\n",
    "                if int(n) % a == 0:\n",
    "                    factor.append(a)\n",
    "            print(f'{n} 的因數有：{factor}')\n",
    "    except ValueError:\n",
    "        print('要輸入正整數才行喔！請重新輸入。')"
   ]
  },
  {
   "cell_type": "code",
   "execution_count": null,
   "id": "94dabbc8",
   "metadata": {},
   "outputs": [],
   "source": []
  }
 ],
 "metadata": {
  "kernelspec": {
   "display_name": "Python 3 (ipykernel)",
   "language": "python",
   "name": "python3"
  },
  "language_info": {
   "codemirror_mode": {
    "name": "ipython",
    "version": 3
   },
   "file_extension": ".py",
   "mimetype": "text/x-python",
   "name": "python",
   "nbconvert_exporter": "python",
   "pygments_lexer": "ipython3",
   "version": "3.11.4"
  }
 },
 "nbformat": 4,
 "nbformat_minor": 5
}
