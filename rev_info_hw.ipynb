{
 "cells": [
  {
   "cell_type": "code",
   "execution_count": 1,
   "metadata": {
    "id": "qvjlfyVXWdAs"
   },
   "outputs": [
    {
     "name": "stdout",
     "output_type": "stream",
     "text": [
      "請輸入公司代碼：（按Enter結束）2302\n",
      "請輸入公司代碼：（按Enter結束）2303\n",
      "請輸入公司代碼：（按Enter結束）\n"
     ]
    },
    {
     "data": {
      "text/plain": [
       "['2302', '2303']"
      ]
     },
     "execution_count": 1,
     "metadata": {},
     "output_type": "execute_result"
    }
   ],
   "source": [
    "# 由使用者輸入任意數量的公司代碼\n",
    "\n",
    "cos = []\n",
    "\n",
    "while True:\n",
    "    co = input('請輸入公司代碼：（按Enter結束）')\n",
    "    if co == '':\n",
    "        break\n",
    "    else:\n",
    "        cos.append(co)\n",
    "\n",
    "cos"
   ]
  },
  {
   "cell_type": "code",
   "execution_count": 2,
   "metadata": {
    "id": "4Oaazq45Xv6C"
   },
   "outputs": [],
   "source": [
    "# 觀察輸入代碼並按查詢後，網址都不變，推測為API post method\n",
    "# 請由「開發者工具」觀察其api網址及form_data\n",
    "\n",
    "stk = '2330'\n",
    "for st in stk:\n",
    "    api_url = 'https://mops.twse.com.tw/mops/web/ajax_t05st10_ifrs'\n",
    "\n",
    "    form_data = {'encodeURIComponent':'1',\n",
    "                 'step':'1',\n",
    "                 'firstin':'1',\n",
    "                 'off':'1',\n",
    "                 'queryName': 'co_id',\n",
    "                 'inpuType':'co_id', \n",
    "                 'TYPEK':'all',\n",
    "                 'isnew':'true',\n",
    "                 'co_id':stk,\n",
    "                }"
   ]
  },
  {
   "cell_type": "code",
   "execution_count": 3,
   "metadata": {
    "id": "Xz_ets3RZZ7M"
   },
   "outputs": [],
   "source": [
    "# 引用自己的模組\n",
    "\n",
    "from tool import get_soup"
   ]
  },
  {
   "cell_type": "code",
   "execution_count": 4,
   "metadata": {
    "id": "k96_6OGsav_6"
   },
   "outputs": [],
   "source": [
    "#soup = get_soup(api_url, form_data)\n",
    "#soup\n",
    "\n",
    "import requests\n",
    "resp=requests.post(api_url, form_data)"
   ]
  },
  {
   "cell_type": "markdown",
   "metadata": {
    "id": "Af8E7QFCbi5R"
   },
   "source": [
    "欄位：公司代號、公司名稱、本月營收金額、增減百分比（本月）、增減百分比（累計）"
   ]
  },
  {
   "cell_type": "code",
   "execution_count": 5,
   "metadata": {
    "collapsed": true
   },
   "outputs": [
    {
     "data": {
      "text/plain": [
       "<html>\n",
       "<head>\n",
       "<title>公開資訊觀測站</title>\n",
       "<link href=\"css/css2.css\" media=\"Screen\" rel=\"stylesheet\" type=\"text/css\"/>\n",
       "<script src=\"js/mops2.js\" type=\"text/javascript\"></script>\n",
       "</head>\n",
       "<body>\n",
       "<!-- isnew=true -->\n",
       "<!-- yearmonth=11210 -->\n",
       "<tr><td align=\"left\" class=\"reportCont\">\n",
       "<h3><u><a alt=\"查詢彙總報表\" href=\"/mops/web/t21sc04_ifrs\">查詢彙總報表</a></u></h3>\n",
       "</td></tr>\n",
       "<table class=\"noBorder\" style=\"width: 60%; margin-left: 20%;\">\n",
       "<tr><td align=\"right\">\n",
       "<form action=\"/server-java/t56ques\" method=\"post\">\n",
       "<input name=\"step\" type=\"hidden\" value=\"0\"/>\n",
       "<input name=\"Market\" type=\"hidden\" value=\"sii \"/>\n",
       "<input name=\"SysName\" type=\"hidden\" value=\"營運概況\"/>\n",
       "<input name=\"reportName\" type=\"hidden\" value=\"開立發票及營業收入資訊\"/>\n",
       "<input name=\"colorchg\" type=\"hidden\" value=\"\"/>\n",
       "<input name=\"compID\" type=\"hidden\" value=\"2330\"/>\n",
       "<input name=\"compName\" type=\"hidden\" value=\"\"/>\n",
       "<input name=\"progName\" type=\"hidden\" value=\"t05st10_ifrs\"/>\n",
       "<input name=\"QNum\" type=\"hidden\" value=\"2\"/>\n",
       "<input name=\"Q1N\" type=\"hidden\" value=\"公司代號\"/>\n",
       "<input name=\"Q1V\" type=\"hidden\" value=\"2330\"/>\n",
       "<input name=\"Q2N\" type=\"hidden\" value=\"資料年月\"/>\n",
       "<input name=\"Q2V\" type=\"hidden\" value=\"\"/>\n",
       "</form></td></tr></table>\n",
       "<table align=\"center\" class=\"noBorder\" style=\"width: 60%; margin-left: 20%;\"><tr><td align=\"center\" class=\"compName\">\n",
       "<b>\n",
       "本資料由　(上市公司)\n",
       "台積電　公司提供</b>\n",
       "</td></tr></table>\n",
       "<table align=\"center\" class=\"noBorder\" style=\"width: 60%; margin-left: 20%;\"><td width=\"33%\"></td><td align=\"center\" class=\"reportCont\" width=\"33%\">民國112年10月</td>\n",
       "<td class=\"reportCont\" style=\"text-align:right !important;\" width=\"33%\">單位：新台幣仟元</td></table>\n",
       "<br/>\n",
       "<table align=\"center\" class=\"hasBorder\" style=\"width: 60%; margin-left: 20%;\">\n",
       "<tr>\n",
       "<th class=\"tblHead\">項目</th>\n",
       "<th class=\"tblHead\">營業收入淨額</th>\n",
       "</tr>\n",
       "<tr>\n",
       "<th class=\"tblHead\">本月</th>\n",
       "<td class=\"odd\" style=\"text-align:right !important;\">           243,202,811</td></tr>\n",
       "<tr>\n",
       "<th class=\"tblHead\">去年同期</th>\n",
       "<td class=\"even\" style=\"text-align:right !important;\">           210,265,633</td></tr>\n",
       "<tr>\n",
       "<th class=\"tblHead\">增減金額</th>\n",
       "<td class=\"odd\" style=\"text-align:right !important;\">            32,937,178</td></tr>\n",
       "<tr>\n",
       "<th class=\"tblHead\">增減百分比</th>\n",
       "<td class=\"even\" style=\"text-align:right !important;\">       15.66</td></tr>\n",
       "<tr>\n",
       "<th class=\"tblHead\">本年累計</th>\n",
       "<td class=\"odd\" style=\"text-align:right !important;\">          1,779,409,796</td></tr>\n",
       "<tr>\n",
       "<th class=\"tblHead\">去年累計</th>\n",
       "<td class=\"even\" style=\"text-align:right !important;\">         1,848,625,057</td></tr>\n",
       "<tr>\n",
       "<th class=\"tblHead\">增減金額</th>\n",
       "<td class=\"odd\" style=\"text-align:right !important;\">            -69,215,261</td></tr>\n",
       "<tr>\n",
       "<th class=\"tblHead\">增減百分比</th>\n",
       "<td class=\"even\" style=\"text-align:right !important;\">       -3.74</td></tr>\n",
       "<th class=\"tblHead\" nowrap=\"\">備註 / 營收變化原因說明</th>\n",
       "<td class=\"even\" style=\"text-align:left !important;\">無。</td>\n",
       "</table><br/>\n",
       "<table align=\"center\" class=\"noBorder\" style=\"width: 60%; margin-left: 20%;\">\n",
       "<tr>\n",
       "<td class=\"note\" style=\"text-align:left !important;\">\n",
       "1.各項增減百分比資訊，如數值逾越999999.99或分母為零（無法計算），則以999999.99表示。<br/>\n",
       "2.合併營業收入係將母子公司及各子公司間重複營收部分消除後所得數字。<br/>\n",
       "3.自民國95年1月起,金融業之各項營業收入係以淨額申報，其營業收入淨額係指「淨收益」。<br/>\n",
       "4.上市櫃公司、興櫃公司、及金管會主管之金融業自民國102年起適用IFRSs；非上市上櫃興櫃之公發公司(含金控子公司為公發公司之非金融業、投控子公司為公發公司者)，自民國104年起適用IFRSs。配合IFRSs實施，營業收入係以合併營業收入申報；無子公司者，則以個別營業收入申報；自願提前適用IFRSs者亦同。<br/>\n",
       "5.自民國102年1月起，配合IFRSs實施，金控業之營業收入係以淨額申報，其營業收入淨額係指「淨收益」。<br/>\n",
       "6.上市櫃及興櫃公司，本月營收或本年累計營收較去年同期增減變動達50％以上者，需於備註欄位說明增減變動原因。\n",
       "</td>\n",
       "</tr>\n",
       "</table>\n",
       "<br/><br/>\n",
       "</body>\n",
       "</html>"
      ]
     },
     "execution_count": 5,
     "metadata": {},
     "output_type": "execute_result"
    }
   ],
   "source": [
    "from bs4 import BeautifulSoup\n",
    "soup=BeautifulSoup(resp.text, 'lxml')\n",
    "soup"
   ]
  },
  {
   "cell_type": "code",
   "execution_count": 6,
   "metadata": {},
   "outputs": [
    {
     "data": {
      "text/plain": [
       "'2330'"
      ]
     },
     "execution_count": 6,
     "metadata": {},
     "output_type": "execute_result"
    }
   ],
   "source": [
    "#公司代號\n",
    "number = soup.find_all('input')[5].get('value')\n",
    "number"
   ]
  },
  {
   "cell_type": "code",
   "execution_count": 7,
   "metadata": {},
   "outputs": [
    {
     "data": {
      "text/plain": [
       "'台積電'"
      ]
     },
     "execution_count": 7,
     "metadata": {},
     "output_type": "execute_result"
    }
   ],
   "source": [
    "#公司名稱\n",
    "name = soup.find('table', align='center').find('b')\n",
    "company_name = name.text.strip('\\r\\n本資料由\\u3000(上市公司)\\r\\n').strip('\\u3000公司提供')\n",
    "company_name"
   ]
  },
  {
   "cell_type": "code",
   "execution_count": 8,
   "metadata": {
    "collapsed": true
   },
   "outputs": [
    {
     "data": {
      "text/plain": [
       "<table align=\"center\" class=\"hasBorder\" style=\"width: 60%; margin-left: 20%;\">\n",
       "<tr>\n",
       "<th class=\"tblHead\">項目</th>\n",
       "<th class=\"tblHead\">營業收入淨額</th>\n",
       "</tr>\n",
       "<tr>\n",
       "<th class=\"tblHead\">本月</th>\n",
       "<td class=\"odd\" style=\"text-align:right !important;\">           243,202,811</td></tr>\n",
       "<tr>\n",
       "<th class=\"tblHead\">去年同期</th>\n",
       "<td class=\"even\" style=\"text-align:right !important;\">           210,265,633</td></tr>\n",
       "<tr>\n",
       "<th class=\"tblHead\">增減金額</th>\n",
       "<td class=\"odd\" style=\"text-align:right !important;\">            32,937,178</td></tr>\n",
       "<tr>\n",
       "<th class=\"tblHead\">增減百分比</th>\n",
       "<td class=\"even\" style=\"text-align:right !important;\">       15.66</td></tr>\n",
       "<tr>\n",
       "<th class=\"tblHead\">本年累計</th>\n",
       "<td class=\"odd\" style=\"text-align:right !important;\">          1,779,409,796</td></tr>\n",
       "<tr>\n",
       "<th class=\"tblHead\">去年累計</th>\n",
       "<td class=\"even\" style=\"text-align:right !important;\">         1,848,625,057</td></tr>\n",
       "<tr>\n",
       "<th class=\"tblHead\">增減金額</th>\n",
       "<td class=\"odd\" style=\"text-align:right !important;\">            -69,215,261</td></tr>\n",
       "<tr>\n",
       "<th class=\"tblHead\">增減百分比</th>\n",
       "<td class=\"even\" style=\"text-align:right !important;\">       -3.74</td></tr>\n",
       "<th class=\"tblHead\" nowrap=\"\">備註 / 營收變化原因說明</th>\n",
       "<td class=\"even\" style=\"text-align:left !important;\">無。</td>\n",
       "</table>"
      ]
     },
     "execution_count": 8,
     "metadata": {},
     "output_type": "execute_result"
    }
   ],
   "source": [
    "incomes = soup.find('table', class_='hasBorder')\n",
    "incomes"
   ]
  },
  {
   "cell_type": "code",
   "execution_count": 9,
   "metadata": {
    "collapsed": true
   },
   "outputs": [
    {
     "data": {
      "text/plain": [
       "[<td class=\"odd\" style=\"text-align:right !important;\">           243,202,811</td>,\n",
       " <td class=\"even\" style=\"text-align:right !important;\">           210,265,633</td>,\n",
       " <td class=\"odd\" style=\"text-align:right !important;\">            32,937,178</td>,\n",
       " <td class=\"even\" style=\"text-align:right !important;\">       15.66</td>,\n",
       " <td class=\"odd\" style=\"text-align:right !important;\">          1,779,409,796</td>,\n",
       " <td class=\"even\" style=\"text-align:right !important;\">         1,848,625,057</td>,\n",
       " <td class=\"odd\" style=\"text-align:right !important;\">            -69,215,261</td>,\n",
       " <td class=\"even\" style=\"text-align:right !important;\">       -3.74</td>,\n",
       " <td class=\"even\" style=\"text-align:left !important;\">無。</td>]"
      ]
     },
     "execution_count": 9,
     "metadata": {},
     "output_type": "execute_result"
    }
   ],
   "source": [
    "income = incomes.find_all('td')\n",
    "income"
   ]
  },
  {
   "cell_type": "code",
   "execution_count": 10,
   "metadata": {},
   "outputs": [
    {
     "data": {
      "text/plain": [
       "'243,202,811'"
      ]
     },
     "execution_count": 10,
     "metadata": {},
     "output_type": "execute_result"
    }
   ],
   "source": [
    "#本月營收金額\n",
    "this_month = income[0].text.strip()\n",
    "this_month"
   ]
  },
  {
   "cell_type": "code",
   "execution_count": 11,
   "metadata": {},
   "outputs": [
    {
     "data": {
      "text/plain": [
       "'15.66'"
      ]
     },
     "execution_count": 11,
     "metadata": {},
     "output_type": "execute_result"
    }
   ],
   "source": [
    "#增減百分比（本月）\n",
    "this_month_percentage = income[3].text.strip()\n",
    "this_month_percentage"
   ]
  },
  {
   "cell_type": "code",
   "execution_count": 12,
   "metadata": {},
   "outputs": [
    {
     "data": {
      "text/plain": [
       "'-3.74'"
      ]
     },
     "execution_count": 12,
     "metadata": {},
     "output_type": "execute_result"
    }
   ],
   "source": [
    "#增減百分比（累計）\n",
    "total_percentage = income[7].text.strip()\n",
    "total_percentage"
   ]
  },
  {
   "cell_type": "code",
   "execution_count": 13,
   "metadata": {},
   "outputs": [
    {
     "name": "stdout",
     "output_type": "stream",
     "text": [
      "請輸入公司代碼：（按Enter結束）2302\n",
      "請輸入公司代碼：（按Enter結束）2303\n",
      "請輸入公司代碼：（按Enter結束）2329\n",
      "請輸入公司代碼：（按Enter結束）2330\n",
      "請輸入公司代碼：（按Enter結束）2337\n",
      "請輸入公司代碼：（按Enter結束）\n"
     ]
    },
    {
     "data": {
      "text/plain": [
       "[['2302', '麗正', '50,480', '-41.01', '-15.71'],\n",
       " ['2303', '聯電', '19,191,382', '-21.17', '-20.60'],\n",
       " ['2329', '華泰', '1,624,056', '35.81', '3.40'],\n",
       " ['2330', '台積電', '243,202,811', '15.66', '-3.74'],\n",
       " ['2337', '旺宏', '2,166,105', '-41.93', '-37.12']]"
      ]
     },
     "execution_count": 13,
     "metadata": {},
     "output_type": "execute_result"
    }
   ],
   "source": [
    "import requests\n",
    "from bs4 import BeautifulSoup\n",
    "\n",
    "# 由使用者輸入任意數量的公司代碼\n",
    "cos = []\n",
    "while True:\n",
    "    co = input('請輸入公司代碼：（按Enter結束）')\n",
    "    if co == '':\n",
    "        break\n",
    "    else:\n",
    "        cos.append(co)\n",
    "\n",
    "company_info = []\n",
    "api_url = 'https://mops.twse.com.tw/mops/web/ajax_t05st10_ifrs'\n",
    "\n",
    "for co in cos:\n",
    "    form_data = {'encodeURIComponent': '1',\n",
    "                 'step': '1',\n",
    "                 'firstin': '1',\n",
    "                 'off': '1',\n",
    "                 'queryName': 'co_id',\n",
    "                 'inpuType': 'co_id', \n",
    "                 'TYPEK': 'all',\n",
    "                 'isnew': 'true',\n",
    "                 'co_id': co\n",
    "                }\n",
    "    \n",
    "    resp = requests.post(api_url, form_data)\n",
    "    soup = BeautifulSoup(resp.text, 'lxml')\n",
    "    company = []\n",
    "    \n",
    "    #公司代號\n",
    "    number = soup.find_all('input')[5].get('value')\n",
    "    company.append(number)\n",
    "\n",
    "    #公司名稱\n",
    "    name = soup.find('table', align='center').find('b')\n",
    "    company_name = name.text.strip('\\r\\n本資料由\\u3000(上市公司)\\r\\n').strip('\\u3000公司提供')\n",
    "    company.append(company_name)\n",
    "\n",
    "    #本月營收金額\n",
    "    incomes = soup.find('table', class_='hasBorder')\n",
    "    income = incomes.find_all('td')\n",
    "    this_month = income[0].text.strip()\n",
    "    company.append(this_month)\n",
    "\n",
    "    #增減百分比（本月）\n",
    "    this_month_percentage = income[3].text.strip()\n",
    "    company.append(this_month_percentage)\n",
    "\n",
    "    #增減百分比（累計）\n",
    "    total_percentage = income[7].text.strip()\n",
    "    company.append(total_percentage)\n",
    "    \n",
    "    company_info.append(company)\n",
    "        \n",
    "company_info"
   ]
  },
  {
   "cell_type": "code",
   "execution_count": 14,
   "metadata": {},
   "outputs": [
    {
     "data": {
      "text/html": [
       "<div>\n",
       "<style scoped>\n",
       "    .dataframe tbody tr th:only-of-type {\n",
       "        vertical-align: middle;\n",
       "    }\n",
       "\n",
       "    .dataframe tbody tr th {\n",
       "        vertical-align: top;\n",
       "    }\n",
       "\n",
       "    .dataframe thead th {\n",
       "        text-align: right;\n",
       "    }\n",
       "</style>\n",
       "<table border=\"1\" class=\"dataframe\">\n",
       "  <thead>\n",
       "    <tr style=\"text-align: right;\">\n",
       "      <th></th>\n",
       "      <th>公司代號</th>\n",
       "      <th>公司名稱</th>\n",
       "      <th>本月營收金額</th>\n",
       "      <th>增減百分比（本月）</th>\n",
       "      <th>增減百分比（累計）</th>\n",
       "    </tr>\n",
       "  </thead>\n",
       "  <tbody>\n",
       "    <tr>\n",
       "      <th>0</th>\n",
       "      <td>2302</td>\n",
       "      <td>麗正</td>\n",
       "      <td>50,480</td>\n",
       "      <td>-41.01</td>\n",
       "      <td>-15.71</td>\n",
       "    </tr>\n",
       "    <tr>\n",
       "      <th>1</th>\n",
       "      <td>2303</td>\n",
       "      <td>聯電</td>\n",
       "      <td>19,191,382</td>\n",
       "      <td>-21.17</td>\n",
       "      <td>-20.60</td>\n",
       "    </tr>\n",
       "    <tr>\n",
       "      <th>2</th>\n",
       "      <td>2329</td>\n",
       "      <td>華泰</td>\n",
       "      <td>1,624,056</td>\n",
       "      <td>35.81</td>\n",
       "      <td>3.40</td>\n",
       "    </tr>\n",
       "    <tr>\n",
       "      <th>3</th>\n",
       "      <td>2330</td>\n",
       "      <td>台積電</td>\n",
       "      <td>243,202,811</td>\n",
       "      <td>15.66</td>\n",
       "      <td>-3.74</td>\n",
       "    </tr>\n",
       "    <tr>\n",
       "      <th>4</th>\n",
       "      <td>2337</td>\n",
       "      <td>旺宏</td>\n",
       "      <td>2,166,105</td>\n",
       "      <td>-41.93</td>\n",
       "      <td>-37.12</td>\n",
       "    </tr>\n",
       "  </tbody>\n",
       "</table>\n",
       "</div>"
      ],
      "text/plain": [
       "   公司代號 公司名稱       本月營收金額 增減百分比（本月） 增減百分比（累計）\n",
       "0  2302   麗正       50,480    -41.01    -15.71\n",
       "1  2303   聯電   19,191,382    -21.17    -20.60\n",
       "2  2329   華泰    1,624,056     35.81      3.40\n",
       "3  2330  台積電  243,202,811     15.66     -3.74\n",
       "4  2337   旺宏    2,166,105    -41.93    -37.12"
      ]
     },
     "execution_count": 14,
     "metadata": {},
     "output_type": "execute_result"
    }
   ],
   "source": [
    "import pandas as pd\n",
    "pd.DataFrame(company_info, columns=['公司代號', '公司名稱', '本月營收金額', '增減百分比（本月）', '增減百分比（累計）'])"
   ]
  },
  {
   "cell_type": "code",
   "execution_count": 15,
   "metadata": {},
   "outputs": [],
   "source": [
    "import os\n",
    "path = 'assignment/csv/'\n",
    "if not os.path.exists(path):\n",
    "    os.makedirs(path)"
   ]
  },
  {
   "cell_type": "code",
   "execution_count": 16,
   "metadata": {},
   "outputs": [
    {
     "data": {
      "text/plain": [
       "True"
      ]
     },
     "execution_count": 16,
     "metadata": {},
     "output_type": "execute_result"
    }
   ],
   "source": [
    "os.path.exists(path)"
   ]
  },
  {
   "cell_type": "code",
   "execution_count": 17,
   "metadata": {},
   "outputs": [
    {
     "name": "stdout",
     "output_type": "stream",
     "text": [
      "請輸入公司代碼：（按Enter結束）2302\n",
      "請輸入公司代碼：（按Enter結束）2303\n",
      "請輸入公司代碼：（按Enter結束）2329\n",
      "請輸入公司代碼：（按Enter結束）2330\n",
      "請輸入公司代碼：（按Enter結束）2337\n",
      "請輸入公司代碼：（按Enter結束）2338\n",
      "請輸入公司代碼：（按Enter結束）2340\n",
      "請輸入公司代碼：（按Enter結束）2342\n",
      "請輸入公司代碼：（按Enter結束）2344\n",
      "請輸入公司代碼：（按Enter結束）2351\n",
      "請輸入公司代碼：（按Enter結束）\n",
      "麗正儲存成功！\n",
      "聯電儲存成功！\n",
      "華泰儲存成功！\n",
      "台積電儲存成功！\n",
      "旺宏儲存成功！\n",
      "光罩儲存成功！\n",
      "台亞儲存成功！\n",
      "茂矽儲存成功！\n",
      "華邦電儲存成功！\n",
      "順德儲存成功！\n"
     ]
    }
   ],
   "source": [
    "import requests\n",
    "from bs4 import BeautifulSoup\n",
    "import pandas as pd\n",
    "\n",
    "# 由使用者輸入任意數量的公司代碼\n",
    "cos = []\n",
    "while True:\n",
    "    co = input('請輸入公司代碼：（按Enter結束）')\n",
    "    if co == '':\n",
    "        break\n",
    "    else:\n",
    "        cos.append(co)\n",
    "\n",
    "company_info = []\n",
    "api_url = 'https://mops.twse.com.tw/mops/web/ajax_t05st10_ifrs'\n",
    "\n",
    "for co in cos:\n",
    "    form_data = {'encodeURIComponent': '1',\n",
    "                 'step': '1',\n",
    "                 'firstin': '1',\n",
    "                 'off': '1',\n",
    "                 'queryName': 'co_id',\n",
    "                 'inpuType': 'co_id', \n",
    "                 'TYPEK': 'all',\n",
    "                 'isnew': 'true',\n",
    "                 'co_id': co\n",
    "                }\n",
    "    \n",
    "    resp = requests.post(api_url, form_data)\n",
    "    soup = BeautifulSoup(resp.text, 'lxml')\n",
    "    company = []\n",
    "    \n",
    "    #公司代號\n",
    "    number = soup.find_all('input')[5].get('value')\n",
    "    company.append(number)\n",
    "\n",
    "    #公司名稱\n",
    "    name = soup.find('table', align='center').find('b')\n",
    "    company_name = name.text.strip('\\r\\n本資料由\\u3000(上市公司)\\r\\n').strip('\\u3000公司提供')\n",
    "    company.append(company_name)\n",
    "\n",
    "    #本月營收金額\n",
    "    incomes = soup.find('table', class_='hasBorder')\n",
    "    income = incomes.find_all('td')\n",
    "    this_month = income[0].text.strip()\n",
    "    company.append(this_month)\n",
    "\n",
    "    #增減百分比（本月）\n",
    "    this_month_percentage = income[3].text.strip()\n",
    "    company.append(this_month_percentage)\n",
    "\n",
    "    #增減百分比（累計）\n",
    "    total_percentage = income[7].text.strip()\n",
    "    company.append(total_percentage)\n",
    "    \n",
    "    company_info.append(company)\n",
    "    \n",
    "    print(f'{company[1]}儲存成功！')\n",
    "    \n",
    "pd.DataFrame(company_info, columns=['公司代號', '公司名稱', '本月營收金額', '增減百分比（本月）', '增減百分比（累計）']).to_csv(f'{path}company_data.csv', encoding='utf-8-sig')"
   ]
  },
  {
   "cell_type": "code",
   "execution_count": null,
   "metadata": {},
   "outputs": [],
   "source": []
  }
 ],
 "metadata": {
  "colab": {
   "provenance": []
  },
  "kernelspec": {
   "display_name": "Python 3 (ipykernel)",
   "language": "python",
   "name": "python3"
  },
  "language_info": {
   "codemirror_mode": {
    "name": "ipython",
    "version": 3
   },
   "file_extension": ".py",
   "mimetype": "text/x-python",
   "name": "python",
   "nbconvert_exporter": "python",
   "pygments_lexer": "ipython3",
   "version": "3.11.4"
  }
 },
 "nbformat": 4,
 "nbformat_minor": 1
}
