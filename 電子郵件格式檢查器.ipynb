{
 "cells": [
  {
   "cell_type": "code",
   "execution_count": 3,
   "id": "49d817e8",
   "metadata": {},
   "outputs": [
    {
     "name": "stdout",
     "output_type": "stream",
     "text": [
      "請輸入你的email帳號。test@gmail.com\n",
      "這是有效的email帳號。\n"
     ]
    }
   ],
   "source": [
    "import re\n",
    "e=input('請輸入你的email帳號。')\n",
    "if re.match(r'^[a-zA-Z0-9_.+-]+@[a-zA-Z0-9-]+\\.[a-zA-Z0-9-.]+$',e):\n",
    "    print('這是有效的email帳號。')\n",
    "else:\n",
    "    print('這是無效的email帳號。')"
   ]
  },
  {
   "cell_type": "code",
   "execution_count": null,
   "id": "9983b242",
   "metadata": {},
   "outputs": [],
   "source": []
  }
 ],
 "metadata": {
  "kernelspec": {
   "display_name": "Python 3 (ipykernel)",
   "language": "python",
   "name": "python3"
  },
  "language_info": {
   "codemirror_mode": {
    "name": "ipython",
    "version": 3
   },
   "file_extension": ".py",
   "mimetype": "text/x-python",
   "name": "python",
   "nbconvert_exporter": "python",
   "pygments_lexer": "ipython3",
   "version": "3.11.4"
  }
 },
 "nbformat": 4,
 "nbformat_minor": 5
}
