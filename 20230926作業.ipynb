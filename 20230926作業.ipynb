{
 "cells": [
  {
   "cell_type": "code",
   "execution_count": 1,
   "id": "212856f7",
   "metadata": {},
   "outputs": [
    {
     "name": "stdout",
     "output_type": "stream",
     "text": [
      "{1, 2, 3, 4, 5, 6}\n"
     ]
    }
   ],
   "source": [
    "set={1, 2, 3, 4, 5, 6} #建立一個數字集合\n",
    "print(set) #列印集合"
   ]
  },
  {
   "cell_type": "code",
   "execution_count": 2,
   "id": "b79786a5",
   "metadata": {},
   "outputs": [
    {
     "name": "stdout",
     "output_type": "stream",
     "text": [
      "{1, 2, 3, 4, 5, 6, 7}\n"
     ]
    }
   ],
   "source": [
    "set.add(7) #在集合中新增一個數字\n",
    "print(set) #列印集合"
   ]
  },
  {
   "cell_type": "code",
   "execution_count": 3,
   "id": "82b4de32",
   "metadata": {},
   "outputs": [
    {
     "name": "stdout",
     "output_type": "stream",
     "text": [
      "{2, 3, 4, 5, 6, 7}\n"
     ]
    }
   ],
   "source": [
    "set.remove(1) #從集合中移除一個數字\n",
    "print(set) #列印集合"
   ]
  },
  {
   "cell_type": "code",
   "execution_count": 4,
   "id": "d956e4fb",
   "metadata": {},
   "outputs": [
    {
     "data": {
      "text/plain": [
       "True"
      ]
     },
     "execution_count": 4,
     "metadata": {},
     "output_type": "execute_result"
    }
   ],
   "source": [
    "5 in set #檢查5是否在集合中"
   ]
  },
  {
   "cell_type": "code",
   "execution_count": 5,
   "id": "cb70ad6b",
   "metadata": {},
   "outputs": [
    {
     "name": "stdout",
     "output_type": "stream",
     "text": [
      "{'小明': 12, '小華': 46, '小偉': 81}\n"
     ]
    }
   ],
   "source": [
    "dict={'小明': 12, '小華': 46, '小偉': 81} #建立一個名字和年齡的字典\n",
    "print(dict) #列印字典"
   ]
  },
  {
   "cell_type": "code",
   "execution_count": 6,
   "id": "a9518abc",
   "metadata": {},
   "outputs": [
    {
     "name": "stdout",
     "output_type": "stream",
     "text": [
      "{'小明': 12, '小華': 46, '小偉': 81, '小宇': 18}\n"
     ]
    }
   ],
   "source": [
    "dict['小宇']=18 #在字典中新增一個新的名字和年齡\n",
    "print(dict) #列印字典"
   ]
  },
  {
   "cell_type": "code",
   "execution_count": 7,
   "id": "7106e853",
   "metadata": {},
   "outputs": [
    {
     "data": {
      "text/plain": [
       "46"
      ]
     },
     "execution_count": 7,
     "metadata": {},
     "output_type": "execute_result"
    }
   ],
   "source": [
    "dict['小華'] #從字典中取得一個名字的年齡"
   ]
  },
  {
   "cell_type": "code",
   "execution_count": null,
   "id": "1b6963ff",
   "metadata": {},
   "outputs": [],
   "source": []
  }
 ],
 "metadata": {
  "kernelspec": {
   "display_name": "Python 3 (ipykernel)",
   "language": "python",
   "name": "python3"
  },
  "language_info": {
   "codemirror_mode": {
    "name": "ipython",
    "version": 3
   },
   "file_extension": ".py",
   "mimetype": "text/x-python",
   "name": "python",
   "nbconvert_exporter": "python",
   "pygments_lexer": "ipython3",
   "version": "3.11.4"
  }
 },
 "nbformat": 4,
 "nbformat_minor": 5
}
