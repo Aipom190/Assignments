{
 "cells": [
  {
   "cell_type": "code",
   "execution_count": 13,
   "id": "79101739",
   "metadata": {},
   "outputs": [],
   "source": [
    "def printTable(tableData):    \n",
    "    colWidths = [0]*len(tableData)\n",
    "    numRows = len(tableData[0]) #列0~3(4)\n",
    "    numColumns = len(tableData) #行0~2(3)\n",
    "    for r in range(0, numRows):\n",
    "        for c in range(0, numColumns):\n",
    "            colWidths[c] = len(max(tableData[c], key = len))\n",
    "            print(tableData[c][r].rjust(colWidths[c]), end = ' ')\n",
    "        print()"
   ]
  },
  {
   "cell_type": "code",
   "execution_count": 14,
   "id": "288ec833",
   "metadata": {},
   "outputs": [
    {
     "name": "stdout",
     "output_type": "stream",
     "text": [
      "  apples Alice  dogs \n",
      " oranges   Bob  cats \n",
      "cherries Carol moose \n",
      "  banana David goose \n"
     ]
    }
   ],
   "source": [
    "tableData = [['apples', 'oranges', 'cherries', 'banana'],\n",
    "['Alice', 'Bob', 'Carol', 'David'],\n",
    "['dogs', 'cats', 'moose', 'goose']]\n",
    "printTable(tableData)"
   ]
  },
  {
   "cell_type": "code",
   "execution_count": null,
   "id": "d89a6fc0",
   "metadata": {},
   "outputs": [],
   "source": []
  }
 ],
 "metadata": {
  "kernelspec": {
   "display_name": "Python 3 (ipykernel)",
   "language": "python",
   "name": "python3"
  },
  "language_info": {
   "codemirror_mode": {
    "name": "ipython",
    "version": 3
   },
   "file_extension": ".py",
   "mimetype": "text/x-python",
   "name": "python",
   "nbconvert_exporter": "python",
   "pygments_lexer": "ipython3",
   "version": "3.11.4"
  }
 },
 "nbformat": 4,
 "nbformat_minor": 5
}
