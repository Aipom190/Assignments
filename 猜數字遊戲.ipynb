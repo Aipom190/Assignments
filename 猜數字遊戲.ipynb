{
 "cells": [
  {
   "cell_type": "code",
   "execution_count": 4,
   "id": "9706e545",
   "metadata": {},
   "outputs": [
    {
     "name": "stdout",
     "output_type": "stream",
     "text": [
      "請給一個1～100以內的數字。50\n",
      "太小囉，再猜猜看！\n",
      "請給一個1～100以內的數字。75\n",
      "太大囉，再猜猜看！\n",
      "請給一個1～100以內的數字。62\n",
      "太大囉，再猜猜看！\n",
      "請給一個1～100以內的數字。56\n",
      "太小囉，再猜猜看！\n",
      "請給一個1～100以內的數字。59\n",
      "太大囉，再猜猜看！\n",
      "請給一個1～100以內的數字。58\n",
      "厲害耶，你猜對囉！\n"
     ]
    }
   ],
   "source": [
    "import random #匯入產生隨機數字的模組\n",
    "target_number=random.randint(1, 100) #隨機產生一個1到100之間的數字，並將它指定給變數target_number\n",
    "while True:\n",
    "    try:\n",
    "        a=input('請給一個1～100以內的數字。')\n",
    "        if ord(max(a))>127:\n",
    "            print('不對唷，要輸入半形整數數字才可以喔！')\n",
    "        elif 1<=int(a)<=100:\n",
    "            if int(a)<target_number:\n",
    "                print('太小囉，再猜猜看！')\n",
    "            elif int(a)>target_number:\n",
    "                print('太大囉，再猜猜看！')\n",
    "            else:\n",
    "                print('厲害耶，你猜對囉！')\n",
    "                break\n",
    "        else:\n",
    "            print('你給的數字不在1～100之間喔。')\n",
    "    except ValueError:\n",
    "        print('不對唷，要輸入半形整數數字才可以喔！')"
   ]
  },
  {
   "cell_type": "code",
   "execution_count": null,
   "id": "f19f6ffa",
   "metadata": {},
   "outputs": [],
   "source": []
  }
 ],
 "metadata": {
  "kernelspec": {
   "display_name": "Python 3 (ipykernel)",
   "language": "python",
   "name": "python3"
  },
  "language_info": {
   "codemirror_mode": {
    "name": "ipython",
    "version": 3
   },
   "file_extension": ".py",
   "mimetype": "text/x-python",
   "name": "python",
   "nbconvert_exporter": "python",
   "pygments_lexer": "ipython3",
   "version": "3.11.4"
  }
 },
 "nbformat": 4,
 "nbformat_minor": 5
}
