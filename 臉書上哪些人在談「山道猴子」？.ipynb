{
 "cells": [
  {
   "cell_type": "code",
   "execution_count": 1,
   "id": "50312a24",
   "metadata": {},
   "outputs": [],
   "source": [
    "from selenium import webdriver\n",
    "from selenium.webdriver.chrome.service import Service\n",
    "from selenium.webdriver.common.by import By\n",
    "import time\n",
    "from bs4 import BeautifulSoup"
   ]
  },
  {
   "cell_type": "code",
   "execution_count": 2,
   "id": "dd2d83fd",
   "metadata": {},
   "outputs": [
    {
     "data": {
      "text/plain": [
       "<selenium.webdriver.chrome.service.Service at 0x1f577e38550>"
      ]
     },
     "execution_count": 2,
     "metadata": {},
     "output_type": "execute_result"
    }
   ],
   "source": [
    "path = r'C:\\Users\\ASUS\\assignment\\chromedriver.exe'\n",
    "service = Service(executable_path = path)\n",
    "service"
   ]
  },
  {
   "cell_type": "code",
   "execution_count": 3,
   "id": "ad6d58ea",
   "metadata": {},
   "outputs": [],
   "source": [
    "chrome = webdriver.Chrome(service = service)\n",
    "chrome.get('https://mbasic.facebook.com/')\n",
    "time.sleep(5)"
   ]
  },
  {
   "cell_type": "code",
   "execution_count": 4,
   "id": "c550dce9",
   "metadata": {},
   "outputs": [],
   "source": [
    "#帳號輸入\n",
    "account_xpath = '/html/body/div/div/div[2]/div/table/tbody/tr/td/div[2]/div/div[2]/form/ul/li[1]/input'\n",
    "element1 = chrome.find_element(By.XPATH, account_xpath)\n",
    "element1.send_keys('')\n",
    "time.sleep(8)"
   ]
  },
  {
   "cell_type": "code",
   "execution_count": 5,
   "id": "05657f3e",
   "metadata": {},
   "outputs": [],
   "source": [
    "#密碼輸入\n",
    "password_xpath = '/html/body/div/div/div[2]/div/table/tbody/tr/td/div[2]/div/div[2]/form/ul/li[2]/section/input'\n",
    "element2 = chrome.find_element(By.XPATH, password_xpath)\n",
    "element2.send_keys('')\n",
    "time.sleep(3)"
   ]
  },
  {
   "cell_type": "code",
   "execution_count": 6,
   "id": "2bbe65cf",
   "metadata": {},
   "outputs": [],
   "source": [
    "log_in_xpath = '/html/body/div/div/div[2]/div/table/tbody/tr/td/div[2]/div/div[2]/form/ul/li[3]/input'\n",
    "log_in = chrome.find_element(By.XPATH, log_in_xpath)"
   ]
  },
  {
   "cell_type": "code",
   "execution_count": 7,
   "id": "258b4e92",
   "metadata": {},
   "outputs": [],
   "source": [
    "log_in.click()"
   ]
  },
  {
   "cell_type": "code",
   "execution_count": 8,
   "id": "8bca61e0",
   "metadata": {},
   "outputs": [],
   "source": [
    "search_box_xpath = '/html/body/div/div/div[1]/div/form/table/tbody/tr/td[2]/input'\n",
    "search_box = chrome.find_element(By.XPATH, search_box_xpath)\n",
    "search_box.send_keys('山道猴子')"
   ]
  },
  {
   "cell_type": "code",
   "execution_count": 9,
   "id": "e9b9496c",
   "metadata": {},
   "outputs": [],
   "source": [
    "search_xpath = '/html/body/div/div/div[1]/div/form/table/tbody/tr/td[3]/input'\n",
    "search = chrome.find_element(By.XPATH, search_xpath)\n",
    "search.click()"
   ]
  },
  {
   "cell_type": "code",
   "execution_count": null,
   "id": "f8577488",
   "metadata": {},
   "outputs": [],
   "source": [
    "chrome.page_source"
   ]
  },
  {
   "cell_type": "code",
   "execution_count": 11,
   "id": "6789ec5a",
   "metadata": {},
   "outputs": [],
   "source": [
    "page_down_xpath = '/html/body/div/div/div[2]/div[2]/div[1]/div[2]/div[2]/a'\n",
    "page_down = chrome.find_element(By.XPATH, page_down_xpath)\n",
    "page_down.click()"
   ]
  },
  {
   "cell_type": "code",
   "execution_count": null,
   "id": "d489b64b",
   "metadata": {},
   "outputs": [],
   "source": [
    "from bs4 import BeautifulSoup\n",
    "page_soup = BeautifulSoup(chrome.page_source)\n",
    "page_soup"
   ]
  },
  {
   "cell_type": "code",
   "execution_count": null,
   "id": "f651a550",
   "metadata": {},
   "outputs": [],
   "source": [
    "articles = page_soup.find_all('article')\n",
    "articles"
   ]
  },
  {
   "cell_type": "code",
   "execution_count": 14,
   "id": "8918ea63",
   "metadata": {},
   "outputs": [
    {
     "data": {
      "text/plain": [
       "'青春博客來'"
      ]
     },
     "execution_count": 14,
     "metadata": {},
     "output_type": "execute_result"
    }
   ],
   "source": [
    "articles[0].find('strong').text"
   ]
  },
  {
   "cell_type": "code",
   "execution_count": 15,
   "id": "2bcfd5ea",
   "metadata": {
    "collapsed": true
   },
   "outputs": [
    {
     "name": "stdout",
     "output_type": "stream",
     "text": [
      "青春博客來\n",
      "觸極者 The Reacher\n",
      "udn.com 聯合新聞網\n",
      "政如你所見\n",
      "楊皓宇\n",
      "空罐王\n",
      "台灣寶可夢（神奇寶貝）同好聯盟\n",
      "年代新聞\n",
      "夏目\n",
      "政如你所見\n",
      "林政男\n",
      "Li-Wei Lee Beckham\n",
      "中天新聞\n"
     ]
    }
   ],
   "source": [
    "for article in articles:\n",
    "    try:\n",
    "        print(article.find('strong').text)\n",
    "    except AttributeError:\n",
    "        continue"
   ]
  },
  {
   "cell_type": "code",
   "execution_count": 16,
   "id": "2cfd0825",
   "metadata": {
    "collapsed": true
   },
   "outputs": [
    {
     "name": "stdout",
     "output_type": "stream",
     "text": [
      "青春博客來\n",
      "觸極者 The Reacher\n",
      "udn.com 聯合新聞網\n",
      "政如你所見\n",
      "楊皓宇\n",
      "空罐王\n",
      "台灣寶可夢（神奇寶貝）同好聯盟\n",
      "年代新聞\n",
      "夏目\n",
      "政如你所見\n",
      "林政男\n",
      "Li-Wei Lee Beckham\n",
      "中天新聞\n",
      "政如你所見\n",
      "王裕翔\n",
      "聯合報\n",
      "TVBS 新聞\n",
      "Kping Chang\n",
      "遊戲角落\n",
      "馮聖棋 Ayogg\n",
      "陳民峰\n",
      "Anne Zheng\n",
      "Tony大木\n",
      "中時新聞網\n",
      "自由高雄－即時火新聞\n",
      "遊戲角落\n",
      "York He\n",
      "林育騰\n",
      "陳山\n",
      "Lucas Chung\n",
      "三立新聞\n",
      "台南電池\n",
      "毛嘉慶\n",
      "遊戲角落\n",
      "三立新聞\n",
      "黃嵩博\n",
      "水豚畫漫畫\n",
      "Yang Zheng Jie\n",
      "陳致豪\n",
      "Good Job\n",
      "Yi Mingwei\n",
      "段俊旭\n",
      "自由時報\n",
      "政如你所見\n",
      "賴信旭\n"
     ]
    }
   ],
   "source": [
    "i = 1\n",
    "while i <= 3:\n",
    "    chrome.page_source\n",
    "    page_soup = BeautifulSoup(chrome.page_source)\n",
    "    articles = page_soup.find_all('article')\n",
    "    for article in articles:\n",
    "        try:\n",
    "            print(article.find('strong').text)\n",
    "        except AttributeError:\n",
    "            continue\n",
    "    time.sleep(5)\n",
    "    \n",
    "    #翻頁\n",
    "    page_down_xpath = '/html/body/div/div/div[2]/div[2]/div[1]/div[2]/div[2]/a'\n",
    "    page_down = chrome.find_element(By.XPATH, page_down_xpath)\n",
    "    page_down.click()\n",
    "    time.sleep(4)\n",
    "    i += 1"
   ]
  },
  {
   "cell_type": "code",
   "execution_count": null,
   "id": "65274cb4",
   "metadata": {},
   "outputs": [],
   "source": [
    "account = input('請輸入你的帳號。')\n",
    "password = input('請輸入你的密碼。')\n",
    "keyword = input('請輸入你要搜尋的關鍵字。')\n",
    "\n",
    "chrome = webdriver.Chrome(service = service)\n",
    "chrome.get('https://mbasic.facebook.com/')\n",
    "time.sleep(5)\n",
    "\n",
    "#帳號輸入\n",
    "account_xpath = '/html/body/div/div/div[2]/div/table/tbody/tr/td/div[2]/div/div[2]/form/ul/li[1]/input'\n",
    "element1 = chrome.find_element(By.XPATH, account_xpath)\n",
    "element1.send_keys(account)\n",
    "time.sleep(8)\n",
    "\n",
    "#密碼輸入\n",
    "password_xpath = '/html/body/div/div/div[2]/div/table/tbody/tr/td/div[2]/div/div[2]/form/ul/li[2]/section/input'\n",
    "element2 = chrome.find_element(By.XPATH, password_xpath)\n",
    "element2.send_keys(password)\n",
    "time.sleep(3)\n",
    "\n",
    "#登入\n",
    "log_in_xpath = '/html/body/div/div/div[2]/div/table/tbody/tr/td/div[2]/div/div[2]/form/ul/li[3]/input'\n",
    "log_in = chrome.find_element(By.XPATH, log_in_xpath)\n",
    "log_in.click()\n",
    "time.sleep(2)\n",
    "\n",
    "#不要記住密碼\n",
    "log_in2_xpath = '/html/body/div/div/div/div/table/tbody/tr/td/div/div[3]/a'\n",
    "log_in2 = chrome.find_element(By.XPATH, log_in2_xpath)\n",
    "log_in2.click()\n",
    "time.sleep(3)\n",
    "\n",
    "#輸入關鍵字\n",
    "search_box_xpath = '/html/body/div/div/div[1]/div/form/table/tbody/tr/td[2]/input'\n",
    "search_box = chrome.find_element(By.XPATH, search_box_xpath)\n",
    "search_box.send_keys(keyword)\n",
    "time.sleep(4)\n",
    "\n",
    "#搜尋\n",
    "search_xpath = '/html/body/div/div/div[1]/div/form/table/tbody/tr/td[3]/input'\n",
    "search = chrome.find_element(By.XPATH, search_xpath)\n",
    "search.click()\n",
    "time.sleep(2)\n",
    "\n",
    "i = 1\n",
    "while i <= 100:\n",
    "    chrome.page_source\n",
    "    page_soup = BeautifulSoup(chrome.page_source)\n",
    "    articles = page_soup.find_all('article')\n",
    "    for article in articles:\n",
    "        try:\n",
    "            print(article.find('strong').text)\n",
    "        except AttributeError:\n",
    "            continue\n",
    "    time.sleep(5)\n",
    "        \n",
    "    #翻頁\n",
    "    page_down_xpath = '/html/body/div/div/div[2]/div[2]/div[1]/div[2]/div[2]/a'\n",
    "    page_down = chrome.find_element(By.XPATH, page_down_xpath)\n",
    "    page_down.click()\n",
    "    time.sleep(4)\n",
    "    i += 1"
   ]
  },
  {
   "cell_type": "code",
   "execution_count": null,
   "id": "4264af25",
   "metadata": {},
   "outputs": [],
   "source": []
  }
 ],
 "metadata": {
  "kernelspec": {
   "display_name": "Python 3 (ipykernel)",
   "language": "python",
   "name": "python3"
  },
  "language_info": {
   "codemirror_mode": {
    "name": "ipython",
    "version": 3
   },
   "file_extension": ".py",
   "mimetype": "text/x-python",
   "name": "python",
   "nbconvert_exporter": "python",
   "pygments_lexer": "ipython3",
   "version": "3.11.4"
  }
 },
 "nbformat": 4,
 "nbformat_minor": 5
}
