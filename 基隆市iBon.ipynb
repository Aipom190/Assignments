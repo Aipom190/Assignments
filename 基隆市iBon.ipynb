{
 "cells": [
  {
   "cell_type": "code",
   "execution_count": 1,
   "id": "e703399c",
   "metadata": {},
   "outputs": [
    {
     "data": {
      "text/plain": [
       "{'strTargetField': 'COUNTY', 'strKeyWords': '基隆市'}"
      ]
     },
     "execution_count": 1,
     "metadata": {},
     "output_type": "execute_result"
    }
   ],
   "source": [
    "api_url='https://www.ibon.com.tw/retail_inquiry_ajax.aspx'\n",
    "form_data = {'strTargetField': 'COUNTY', 'strKeyWords': '基隆市'}\n",
    "form_data"
   ]
  },
  {
   "cell_type": "code",
   "execution_count": 2,
   "id": "2f0e3662",
   "metadata": {},
   "outputs": [
    {
     "data": {
      "text/plain": [
       "<Response [200]>"
      ]
     },
     "execution_count": 2,
     "metadata": {},
     "output_type": "execute_result"
    }
   ],
   "source": [
    "import requests\n",
    "resp=requests.post(api_url, form_data)\n",
    "resp"
   ]
  },
  {
   "cell_type": "code",
   "execution_count": 3,
   "id": "8e4e92d4",
   "metadata": {
    "collapsed": true
   },
   "outputs": [
    {
     "data": {
      "text/plain": [
       "<html><body><table bgcolor=\"ffffff\" cellpadding=\"5\" cellspacing=\"0\" class=\"font16\" width=\"100%\"> <tr> <td align=\"center\" bgcolor=\"#c9e293\" class=\"black\" style=\"border:1px solid #fff; border-width:0 1px 1px 0;\" width=\"20%\">店號 </td> <td align=\"center\" bgcolor=\"#c9e293\" class=\"black\" style=\"border:1px solid #fff; border-width:0 1px 1px 0;\" width=\"20%\">店名 </td> <td align=\"center\" bgcolor=\"#c9e293\" class=\"black\" style=\"border:1px solid #fff; border-width:0 1px 1px 0;\"> 地址</td> </tr><tr style=\"background-color:#FFFFFF;\"> <td align=\"center\" class=\"banner\" onclick=\"return SendProcess_Retail_Inquiry_ShowRetailInformation('112879');\" style=\"cursor:pointer;font-size:large;\"><a href=\"javascript:void(0)\">112879</a></td> <td align=\"center\">碇內  </td> <td>基隆市暖暖區源遠路158號160號                                </td></tr><tr style=\"background-color:#E9E9E9;\"> <td align=\"center\" class=\"banner\" onclick=\"return SendProcess_Retail_Inquiry_ShowRetailInformation('117140');\" style=\"cursor:pointer;font-size:large;\"><a href=\"javascript:void(0)\">117140</a></td> <td align=\"center\">德信  </td> <td>基隆市信義區東信路50號52號1樓                               </td></tr><tr style=\"background-color:#FFFFFF;\"> <td align=\"center\" class=\"banner\" onclick=\"return SendProcess_Retail_Inquiry_ShowRetailInformation('117896');\" style=\"cursor:pointer;font-size:large;\"><a href=\"javascript:void(0)\">117896</a></td> <td align=\"center\">深澳坑</td> <td>基隆市信義區深澳坑路2-6號2-7號                              </td></tr><tr style=\"background-color:#E9E9E9;\"> <td align=\"center\" class=\"banner\" onclick=\"return SendProcess_Retail_Inquiry_ShowRetailInformation('118419');\" style=\"cursor:pointer;font-size:large;\"><a href=\"javascript:void(0)\">118419</a></td> <td align=\"center\">聖心  </td> <td>基隆市中山區西定路38號40號                                  </td></tr><tr style=\"background-color:#FFFFFF;\"> <td align=\"center\" class=\"banner\" onclick=\"return SendProcess_Retail_Inquiry_ShowRetailInformation('123525');\" style=\"cursor:pointer;font-size:large;\"><a href=\"javascript:void(0)\">123525</a></td> <td align=\"center\">滿福  </td> <td>基隆市信義區深澳坑路166之30號1樓                            </td></tr><tr style=\"background-color:#E9E9E9;\"> <td align=\"center\" class=\"banner\" onclick=\"return SendProcess_Retail_Inquiry_ShowRetailInformation('127114');\" style=\"cursor:pointer;font-size:large;\"><a href=\"javascript:void(0)\">127114</a></td> <td align=\"center\">新五福</td> <td>基隆市七堵區福五街80號82號1樓                               </td></tr><tr style=\"background-color:#FFFFFF;\"> <td align=\"center\" class=\"banner\" onclick=\"return SendProcess_Retail_Inquiry_ShowRetailInformation('132415');\" style=\"cursor:pointer;font-size:large;\"><a href=\"javascript:void(0)\">132415</a></td> <td align=\"center\">正光  </td> <td>基隆市七堵區自治街9號11號                                   </td></tr><tr style=\"background-color:#E9E9E9;\"> <td align=\"center\" class=\"banner\" onclick=\"return SendProcess_Retail_Inquiry_ShowRetailInformation('138697');\" style=\"cursor:pointer;font-size:large;\"><a href=\"javascript:void(0)\">138697</a></td> <td align=\"center\">新福樂</td> <td>基隆市信義區深溪路43號45號1樓                               </td></tr><tr style=\"background-color:#FFFFFF;\"> <td align=\"center\" class=\"banner\" onclick=\"return SendProcess_Retail_Inquiry_ShowRetailInformation('139313');\" style=\"cursor:pointer;font-size:large;\"><a href=\"javascript:void(0)\">139313</a></td> <td align=\"center\">新武嶺</td> <td>基隆市安樂區基金一路168之26號                               </td></tr><tr style=\"background-color:#E9E9E9;\"> <td align=\"center\" class=\"banner\" onclick=\"return SendProcess_Retail_Inquiry_ShowRetailInformation('140597');\" style=\"cursor:pointer;font-size:large;\"><a href=\"javascript:void(0)\">140597</a></td> <td align=\"center\">和平島</td> <td>基隆市中正區和一路125號127號1樓                             </td></tr><tr style=\"background-color:#FFFFFF;\"> <td align=\"center\" class=\"banner\" onclick=\"return SendProcess_Retail_Inquiry_ShowRetailInformation('141338');\" style=\"cursor:pointer;font-size:large;\"><a href=\"javascript:void(0)\">141338</a></td> <td align=\"center\">福聚  </td> <td>基隆市七堵區實踐路286號福二街229號1樓                       </td></tr><tr style=\"background-color:#E9E9E9;\"> <td align=\"center\" class=\"banner\" onclick=\"return SendProcess_Retail_Inquiry_ShowRetailInformation('143699');\" style=\"cursor:pointer;font-size:large;\"><a href=\"javascript:void(0)\">143699</a></td> <td align=\"center\">崁頂  </td> <td>基隆市仁愛區仁四路60號62號1樓                               </td></tr><tr style=\"background-color:#FFFFFF;\"> <td align=\"center\" class=\"banner\" onclick=\"return SendProcess_Retail_Inquiry_ShowRetailInformation('151830');\" style=\"cursor:pointer;font-size:large;\"><a href=\"javascript:void(0)\">151830</a></td> <td align=\"center\">大武嶺</td> <td>基隆市安樂區大武嶺里基金一路135巷21弄2-1號                  </td></tr><tr style=\"background-color:#E9E9E9;\"> <td align=\"center\" class=\"banner\" onclick=\"return SendProcess_Retail_Inquiry_ShowRetailInformation('154840');\" style=\"cursor:pointer;font-size:large;\"><a href=\"javascript:void(0)\">154840</a></td> <td align=\"center\">武訓  </td> <td>基隆市安樂區武訓街102號1樓                                  </td></tr><tr style=\"background-color:#FFFFFF;\"> <td align=\"center\" class=\"banner\" onclick=\"return SendProcess_Retail_Inquiry_ShowRetailInformation('155625');\" style=\"cursor:pointer;font-size:large;\"><a href=\"javascript:void(0)\">155625</a></td> <td align=\"center\">極上  </td> <td>基隆市仁愛區仁三路66號愛二路54巷10號1樓                     </td></tr><tr style=\"background-color:#E9E9E9;\"> <td align=\"center\" class=\"banner\" onclick=\"return SendProcess_Retail_Inquiry_ShowRetailInformation('159177');\" style=\"cursor:pointer;font-size:large;\"><a href=\"javascript:void(0)\">159177</a></td> <td align=\"center\">愛鑫  </td> <td>基隆市仁愛區愛二路65號                                      </td></tr><tr style=\"background-color:#FFFFFF;\"> <td align=\"center\" class=\"banner\" onclick=\"return SendProcess_Retail_Inquiry_ShowRetailInformation('161295');\" style=\"cursor:pointer;font-size:large;\"><a href=\"javascript:void(0)\">161295</a></td> <td align=\"center\">漁港  </td> <td>基隆市中正區中正路672號1樓                                  </td></tr><tr style=\"background-color:#E9E9E9;\"> <td align=\"center\" class=\"banner\" onclick=\"return SendProcess_Retail_Inquiry_ShowRetailInformation('163512');\" style=\"cursor:pointer;font-size:large;\"><a href=\"javascript:void(0)\">163512</a></td> <td align=\"center\">六工  </td> <td>基隆市七堵區工建路1之22號1之23號1樓                         </td></tr><tr style=\"background-color:#FFFFFF;\"> <td align=\"center\" class=\"banner\" onclick=\"return SendProcess_Retail_Inquiry_ShowRetailInformation('164065');\" style=\"cursor:pointer;font-size:large;\"><a href=\"javascript:void(0)\">164065</a></td> <td align=\"center\">新財發</td> <td>基隆市中正區新豐街303巷11弄1號3號1樓                        </td></tr><tr style=\"background-color:#E9E9E9;\"> <td align=\"center\" class=\"banner\" onclick=\"return SendProcess_Retail_Inquiry_ShowRetailInformation('164593');\" style=\"cursor:pointer;font-size:large;\"><a href=\"javascript:void(0)\">164593</a></td> <td align=\"center\">新長基</td> <td>基隆市安樂區安樂路二段161號                                 </td></tr><tr style=\"background-color:#FFFFFF;\"> <td align=\"center\" class=\"banner\" onclick=\"return SendProcess_Retail_Inquiry_ShowRetailInformation('170255');\" style=\"cursor:pointer;font-size:large;\"><a href=\"javascript:void(0)\">170255</a></td> <td align=\"center\">德復  </td> <td>基隆市中山區復興路193號195號197號1樓                        </td></tr><tr style=\"background-color:#E9E9E9;\"> <td align=\"center\" class=\"banner\" onclick=\"return SendProcess_Retail_Inquiry_ShowRetailInformation('170886');\" style=\"cursor:pointer;font-size:large;\"><a href=\"javascript:void(0)\">170886</a></td> <td align=\"center\">基金  </td> <td>基隆市安樂區麥金路197號1樓                                  </td></tr><tr style=\"background-color:#FFFFFF;\"> <td align=\"center\" class=\"banner\" onclick=\"return SendProcess_Retail_Inquiry_ShowRetailInformation('171007');\" style=\"cursor:pointer;font-size:large;\"><a href=\"javascript:void(0)\">171007</a></td> <td align=\"center\">七堵  </td> <td>基隆市七堵區明德一路174號                                   </td></tr><tr style=\"background-color:#E9E9E9;\"> <td align=\"center\" class=\"banner\" onclick=\"return SendProcess_Retail_Inquiry_ShowRetailInformation('171155');\" style=\"cursor:pointer;font-size:large;\"><a href=\"javascript:void(0)\">171155</a></td> <td align=\"center\">新福成</td> <td>基隆市仁愛區仁二路84號86號1樓                               </td></tr><tr style=\"background-color:#FFFFFF;\"> <td align=\"center\" class=\"banner\" onclick=\"return SendProcess_Retail_Inquiry_ShowRetailInformation('174040');\" style=\"cursor:pointer;font-size:large;\"><a href=\"javascript:void(0)\">174040</a></td> <td align=\"center\">基醫  </td> <td>基隆市信義區信二路268號1樓                                  </td></tr><tr style=\"background-color:#E9E9E9;\"> <td align=\"center\" class=\"banner\" onclick=\"return SendProcess_Retail_Inquiry_ShowRetailInformation('179827');\" style=\"cursor:pointer;font-size:large;\"><a href=\"javascript:void(0)\">179827</a></td> <td align=\"center\">新仁二</td> <td>基隆市仁愛區仁二路11號13號1樓                               </td></tr><tr style=\"background-color:#FFFFFF;\"> <td align=\"center\" class=\"banner\" onclick=\"return SendProcess_Retail_Inquiry_ShowRetailInformation('180986');\" style=\"cursor:pointer;font-size:large;\"><a href=\"javascript:void(0)\">180986</a></td> <td align=\"center\">基隆  </td> <td>基隆市仁愛區仁二路236號                                     </td></tr><tr style=\"background-color:#E9E9E9;\"> <td align=\"center\" class=\"banner\" onclick=\"return SendProcess_Retail_Inquiry_ShowRetailInformation('183284');\" style=\"cursor:pointer;font-size:large;\"><a href=\"javascript:void(0)\">183284</a></td> <td align=\"center\">晨曦  </td> <td>基隆市暖暖區東勢街6之52號6之53號1樓                         </td></tr><tr style=\"background-color:#FFFFFF;\"> <td align=\"center\" class=\"banner\" onclick=\"return SendProcess_Retail_Inquiry_ShowRetailInformation('184874');\" style=\"cursor:pointer;font-size:large;\"><a href=\"javascript:void(0)\">184874</a></td> <td align=\"center\">新廟口</td> <td>基隆市仁愛區仁二路228號1樓                                  </td></tr><tr style=\"background-color:#E9E9E9;\"> <td align=\"center\" class=\"banner\" onclick=\"return SendProcess_Retail_Inquiry_ShowRetailInformation('187530');\" style=\"cursor:pointer;font-size:large;\"><a href=\"javascript:void(0)\">187530</a></td> <td align=\"center\">麥金  </td> <td>基隆市安樂區基金三路80號80-1號1樓                           </td></tr><tr style=\"background-color:#FFFFFF;\"> <td align=\"center\" class=\"banner\" onclick=\"return SendProcess_Retail_Inquiry_ShowRetailInformation('189075');\" style=\"cursor:pointer;font-size:large;\"><a href=\"javascript:void(0)\">189075</a></td> <td align=\"center\">永富  </td> <td>基隆市七堵區永富路99號101號103號1樓                         </td></tr><tr style=\"background-color:#E9E9E9;\"> <td align=\"center\" class=\"banner\" onclick=\"return SendProcess_Retail_Inquiry_ShowRetailInformation('194538');\" style=\"cursor:pointer;font-size:large;\"><a href=\"javascript:void(0)\">194538</a></td> <td align=\"center\">基隆南</td> <td>基隆市仁愛區港西街5號1樓                                    </td></tr><tr style=\"background-color:#FFFFFF;\"> <td align=\"center\" class=\"banner\" onclick=\"return SendProcess_Retail_Inquiry_ShowRetailInformation('196279');\" style=\"cursor:pointer;font-size:large;\"><a href=\"javascript:void(0)\">196279</a></td> <td align=\"center\">美的  </td> <td>基隆市信義區教孝街28號1樓                                   </td></tr><tr style=\"background-color:#E9E9E9;\"> <td align=\"center\" class=\"banner\" onclick=\"return SendProcess_Retail_Inquiry_ShowRetailInformation('196707');\" style=\"cursor:pointer;font-size:large;\"><a href=\"javascript:void(0)\">196707</a></td> <td align=\"center\">港隆  </td> <td>基隆市仁愛區孝四路23號1樓                                   </td></tr><tr style=\"background-color:#FFFFFF;\"> <td align=\"center\" class=\"banner\" onclick=\"return SendProcess_Retail_Inquiry_ShowRetailInformation('197412');\" style=\"cursor:pointer;font-size:large;\"><a href=\"javascript:void(0)\">197412</a></td> <td align=\"center\">忠三  </td> <td>基隆市仁愛區忠三路52之1號54號1樓                            </td></tr><tr style=\"background-color:#E9E9E9;\"> <td align=\"center\" class=\"banner\" onclick=\"return SendProcess_Retail_Inquiry_ShowRetailInformation('197777');\" style=\"cursor:pointer;font-size:large;\"><a href=\"javascript:void(0)\">197777</a></td> <td align=\"center\">旭東  </td> <td>基隆市中正區中正路54號                                      </td></tr><tr style=\"background-color:#FFFFFF;\"> <td align=\"center\" class=\"banner\" onclick=\"return SendProcess_Retail_Inquiry_ShowRetailInformation('197984');\" style=\"cursor:pointer;font-size:large;\"><a href=\"javascript:void(0)\">197984</a></td> <td align=\"center\">瑞金  </td> <td>基隆市安樂區基金三路75號75之1號1樓                          </td></tr><tr style=\"background-color:#E9E9E9;\"> <td align=\"center\" class=\"banner\" onclick=\"return SendProcess_Retail_Inquiry_ShowRetailInformation('207425');\" style=\"cursor:pointer;font-size:large;\"><a href=\"javascript:void(0)\">207425</a></td> <td align=\"center\">港都  </td> <td>基隆市中正區義二路8號1樓                                    </td></tr><tr style=\"background-color:#FFFFFF;\"> <td align=\"center\" class=\"banner\" onclick=\"return SendProcess_Retail_Inquiry_ShowRetailInformation('208082');\" style=\"cursor:pointer;font-size:large;\"><a href=\"javascript:void(0)\">208082</a></td> <td align=\"center\">港富  </td> <td>基隆市中山區中華路93號                                      </td></tr><tr style=\"background-color:#E9E9E9;\"> <td align=\"center\" class=\"banner\" onclick=\"return SendProcess_Retail_Inquiry_ShowRetailInformation('209122');\" style=\"cursor:pointer;font-size:large;\"><a href=\"javascript:void(0)\">209122</a></td> <td align=\"center\">篤勝  </td> <td>基隆市七堵區大德路103號                                     </td></tr><tr style=\"background-color:#FFFFFF;\"> <td align=\"center\" class=\"banner\" onclick=\"return SendProcess_Retail_Inquiry_ShowRetailInformation('210535');\" style=\"cursor:pointer;font-size:large;\"><a href=\"javascript:void(0)\">210535</a></td> <td align=\"center\">福二  </td> <td>基隆市七堵區福二街157號1樓                                  </td></tr><tr style=\"background-color:#E9E9E9;\"> <td align=\"center\" class=\"banner\" onclick=\"return SendProcess_Retail_Inquiry_ShowRetailInformation('210720');\" style=\"cursor:pointer;font-size:large;\"><a href=\"javascript:void(0)\">210720</a></td> <td align=\"center\">七堵站</td> <td>基隆市七堵區東新街2號1樓                                    </td></tr><tr style=\"background-color:#FFFFFF;\"> <td align=\"center\" class=\"banner\" onclick=\"return SendProcess_Retail_Inquiry_ShowRetailInformation('211398');\" style=\"cursor:pointer;font-size:large;\"><a href=\"javascript:void(0)\">211398</a></td> <td align=\"center\">極緻  </td> <td>基隆市仁愛區仁二路211號1樓                                  </td></tr><tr style=\"background-color:#E9E9E9;\"> <td align=\"center\" class=\"banner\" onclick=\"return SendProcess_Retail_Inquiry_ShowRetailInformation('214825');\" style=\"cursor:pointer;font-size:large;\"><a href=\"javascript:void(0)\">214825</a></td> <td align=\"center\">新華成</td> <td>基隆市仁愛區成功一路115號117號1樓                           </td></tr><tr style=\"background-color:#FFFFFF;\"> <td align=\"center\" class=\"banner\" onclick=\"return SendProcess_Retail_Inquiry_ShowRetailInformation('215297');\" style=\"cursor:pointer;font-size:large;\"><a href=\"javascript:void(0)\">215297</a></td> <td align=\"center\">翔濱  </td> <td>基隆市中正區祥豐街339號1樓                                  </td></tr><tr style=\"background-color:#E9E9E9;\"> <td align=\"center\" class=\"banner\" onclick=\"return SendProcess_Retail_Inquiry_ShowRetailInformation('227625');\" style=\"cursor:pointer;font-size:large;\"><a href=\"javascript:void(0)\">227625</a></td> <td align=\"center\">東明  </td> <td>基隆市信義區東明路181號183號1樓                             </td></tr><tr style=\"background-color:#FFFFFF;\"> <td align=\"center\" class=\"banner\" onclick=\"return SendProcess_Retail_Inquiry_ShowRetailInformation('231989');\" style=\"cursor:pointer;font-size:large;\"><a href=\"javascript:void(0)\">231989</a></td> <td align=\"center\">觀山海</td> <td>基隆市中正區砂子里觀海街49號51號1樓                         </td></tr><tr style=\"background-color:#E9E9E9;\"> <td align=\"center\" class=\"banner\" onclick=\"return SendProcess_Retail_Inquiry_ShowRetailInformation('235198');\" style=\"cursor:pointer;font-size:large;\"><a href=\"javascript:void(0)\">235198</a></td> <td align=\"center\">新橫濱</td> <td>基隆市中山區復興路209之3號1樓                               </td></tr><tr style=\"background-color:#FFFFFF;\"> <td align=\"center\" class=\"banner\" onclick=\"return SendProcess_Retail_Inquiry_ShowRetailInformation('236696');\" style=\"cursor:pointer;font-size:large;\"><a href=\"javascript:void(0)\">236696</a></td> <td align=\"center\">愛六  </td> <td>基隆市仁愛區仁一路281號1樓                                  </td></tr><tr style=\"background-color:#E9E9E9;\"> <td align=\"center\" class=\"banner\" onclick=\"return SendProcess_Retail_Inquiry_ShowRetailInformation('236788');\" style=\"cursor:pointer;font-size:large;\"><a href=\"javascript:void(0)\">236788</a></td> <td align=\"center\">深瑞  </td> <td>基隆市信義區深澳坑路129號1樓                                </td></tr><tr style=\"background-color:#FFFFFF;\"> <td align=\"center\" class=\"banner\" onclick=\"return SendProcess_Retail_Inquiry_ShowRetailInformation('238278');\" style=\"cursor:pointer;font-size:large;\"><a href=\"javascript:void(0)\">238278</a></td> <td align=\"center\">新壯觀</td> <td>基隆市安樂區麥金路64號66號1樓                               </td></tr><tr style=\"background-color:#E9E9E9;\"> <td align=\"center\" class=\"banner\" onclick=\"return SendProcess_Retail_Inquiry_ShowRetailInformation('239271');\" style=\"cursor:pointer;font-size:large;\"><a href=\"javascript:void(0)\">239271</a></td> <td align=\"center\">德欣  </td> <td>基隆市中山區復興路328號之6號之7號1樓                        </td></tr><tr style=\"background-color:#FFFFFF;\"> <td align=\"center\" class=\"banner\" onclick=\"return SendProcess_Retail_Inquiry_ShowRetailInformation('240167');\" style=\"cursor:pointer;font-size:large;\"><a href=\"javascript:void(0)\">240167</a></td> <td align=\"center\">新暖東</td> <td>基隆市暖暖區暖暖街175號177號1樓                             </td></tr><tr style=\"background-color:#E9E9E9;\"> <td align=\"center\" class=\"banner\" onclick=\"return SendProcess_Retail_Inquiry_ShowRetailInformation('243650');\" style=\"cursor:pointer;font-size:large;\"><a href=\"javascript:void(0)\">243650</a></td> <td align=\"center\">哨船頭</td> <td>基隆市中正區義一路83號1樓                                   </td></tr><tr style=\"background-color:#FFFFFF;\"> <td align=\"center\" class=\"banner\" onclick=\"return SendProcess_Retail_Inquiry_ShowRetailInformation('243719');\" style=\"cursor:pointer;font-size:large;\"><a href=\"javascript:void(0)\">243719</a></td> <td align=\"center\">基信  </td> <td>基隆市信義區信二路23號23之4號                               </td></tr><tr style=\"background-color:#E9E9E9;\"> <td align=\"center\" class=\"banner\" onclick=\"return SendProcess_Retail_Inquiry_ShowRetailInformation('249186');\" style=\"cursor:pointer;font-size:large;\"><a href=\"javascript:void(0)\">249186</a></td> <td align=\"center\">暖碇  </td> <td>基隆市暖暖區碇內街9號11號                                   </td></tr><tr style=\"background-color:#FFFFFF;\"> <td align=\"center\" class=\"banner\" onclick=\"return SendProcess_Retail_Inquiry_ShowRetailInformation('249348');\" style=\"cursor:pointer;font-size:large;\"><a href=\"javascript:void(0)\">249348</a></td> <td align=\"center\">崇信  </td> <td>基隆市信義區東信路212-4及214號1樓                           </td></tr><tr style=\"background-color:#E9E9E9;\"> <td align=\"center\" class=\"banner\" onclick=\"return SendProcess_Retail_Inquiry_ShowRetailInformation('249496');\" style=\"cursor:pointer;font-size:large;\"><a href=\"javascript:void(0)\">249496</a></td> <td align=\"center\">杰昕  </td> <td>基隆市信義區信二路243號245號                                </td></tr><tr style=\"background-color:#FFFFFF;\"> <td align=\"center\" class=\"banner\" onclick=\"return SendProcess_Retail_Inquiry_ShowRetailInformation('249511');\" style=\"cursor:pointer;font-size:large;\"><a href=\"javascript:void(0)\">249511</a></td> <td align=\"center\">孝三  </td> <td>基隆市仁愛區孝三路89號91號1樓                               </td></tr><tr style=\"background-color:#E9E9E9;\"> <td align=\"center\" class=\"banner\" onclick=\"return SendProcess_Retail_Inquiry_ShowRetailInformation('249599');\" style=\"cursor:pointer;font-size:large;\"><a href=\"javascript:void(0)\">249599</a></td> <td align=\"center\">八斗子</td> <td>基隆市中正區北寧路327號1樓                                  </td></tr><tr style=\"background-color:#FFFFFF;\"> <td align=\"center\" class=\"banner\" onclick=\"return SendProcess_Retail_Inquiry_ShowRetailInformation('250728');\" style=\"cursor:pointer;font-size:large;\"><a href=\"javascript:void(0)\">250728</a></td> <td align=\"center\">樂添  </td> <td>基隆市安樂區樂利二街62巷291號2樓292號293號1樓               </td></tr><tr style=\"background-color:#E9E9E9;\"> <td align=\"center\" class=\"banner\" onclick=\"return SendProcess_Retail_Inquiry_ShowRetailInformation('251662');\" style=\"cursor:pointer;font-size:large;\"><a href=\"javascript:void(0)\">251662</a></td> <td align=\"center\">和豐  </td> <td>基隆市中正區新豐街203號1樓                                  </td></tr><tr style=\"background-color:#FFFFFF;\"> <td align=\"center\" class=\"banner\" onclick=\"return SendProcess_Retail_Inquiry_ShowRetailInformation('252584');\" style=\"cursor:pointer;font-size:large;\"><a href=\"javascript:void(0)\">252584</a></td> <td align=\"center\">暖鑫  </td> <td>基隆市暖暖區暖暖街554號                                     </td></tr><tr style=\"background-color:#E9E9E9;\"> <td align=\"center\" class=\"banner\" onclick=\"return SendProcess_Retail_Inquiry_ShowRetailInformation('252816');\" style=\"cursor:pointer;font-size:large;\"><a href=\"javascript:void(0)\">252816</a></td> <td align=\"center\">武晴  </td> <td>基隆市安樂區基金一路214之17號                               </td></tr><tr style=\"background-color:#FFFFFF;\"> <td align=\"center\" class=\"banner\" onclick=\"return SendProcess_Retail_Inquiry_ShowRetailInformation('253417');\" style=\"cursor:pointer;font-size:large;\"><a href=\"javascript:void(0)\">253417</a></td> <td align=\"center\">華新一</td> <td>基隆市七堵區華新一路22號26號1樓                             </td></tr><tr style=\"background-color:#E9E9E9;\"> <td align=\"center\" class=\"banner\" onclick=\"return SendProcess_Retail_Inquiry_ShowRetailInformation('253495');\" style=\"cursor:pointer;font-size:large;\"><a href=\"javascript:void(0)\">253495</a></td> <td align=\"center\">安一  </td> <td>基隆市安樂區安一路172及174號                                </td></tr><tr style=\"background-color:#FFFFFF;\"> <td align=\"center\" class=\"banner\" onclick=\"return SendProcess_Retail_Inquiry_ShowRetailInformation('254225');\" style=\"cursor:pointer;font-size:large;\"><a href=\"javascript:void(0)\">254225</a></td> <td align=\"center\">富華  </td> <td>基隆市中山區中華路9號                                       </td></tr><tr style=\"background-color:#E9E9E9;\"> <td align=\"center\" class=\"banner\" onclick=\"return SendProcess_Retail_Inquiry_ShowRetailInformation('254340');\" style=\"cursor:pointer;font-size:large;\"><a href=\"javascript:void(0)\">254340</a></td> <td align=\"center\">篤鑫  </td> <td>基隆市七堵區堵南街22-1號1樓                                 </td></tr><tr style=\"background-color:#FFFFFF;\"> <td align=\"center\" class=\"banner\" onclick=\"return SendProcess_Retail_Inquiry_ShowRetailInformation('255413');\" style=\"cursor:pointer;font-size:large;\"><a href=\"javascript:void(0)\">255413</a></td> <td align=\"center\">樂三  </td> <td>基隆市安樂區樂利三街257號259號1樓                           </td></tr><tr style=\"background-color:#E9E9E9;\"> <td align=\"center\" class=\"banner\" onclick=\"return SendProcess_Retail_Inquiry_ShowRetailInformation('261049');\" style=\"cursor:pointer;font-size:large;\"><a href=\"javascript:void(0)\">261049</a></td> <td align=\"center\">海洋  </td> <td>基隆市中正區中正路609號1樓                                  </td></tr><tr style=\"background-color:#FFFFFF;\"> <td align=\"center\" class=\"banner\" onclick=\"return SendProcess_Retail_Inquiry_ShowRetailInformation('263001');\" style=\"cursor:pointer;font-size:large;\"><a href=\"javascript:void(0)\">263001</a></td> <td align=\"center\">基義  </td> <td>基隆市中正區義二路181號185號1樓                             </td></tr><tr style=\"background-color:#E9E9E9;\"> <td align=\"center\" class=\"banner\" onclick=\"return SendProcess_Retail_Inquiry_ShowRetailInformation('263517');\" style=\"cursor:pointer;font-size:large;\"><a href=\"javascript:void(0)\">263517</a></td> <td align=\"center\">新和慶</td> <td>基隆市安樂區中和路166之5號166之6號1樓                       </td></tr><tr style=\"background-color:#FFFFFF;\"> <td align=\"center\" class=\"banner\" onclick=\"return SendProcess_Retail_Inquiry_ShowRetailInformation('263687');\" style=\"cursor:pointer;font-size:large;\"><a href=\"javascript:void(0)\">263687</a></td> <td align=\"center\">財豐  </td> <td>基隆市中正區新豐街389號1樓                                  </td></tr><tr style=\"background-color:#E9E9E9;\"> <td align=\"center\" class=\"banner\" onclick=\"return SendProcess_Retail_Inquiry_ShowRetailInformation('263713');\" style=\"cursor:pointer;font-size:large;\"><a href=\"javascript:void(0)\">263713</a></td> <td align=\"center\">新大慶</td> <td>基隆市中山區中和路168巷7弄13號15號1樓                       </td></tr><tr style=\"background-color:#FFFFFF;\"> <td align=\"center\" class=\"banner\" onclick=\"return SendProcess_Retail_Inquiry_ShowRetailInformation('886303');\" style=\"cursor:pointer;font-size:large;\"><a href=\"javascript:void(0)\">886303</a></td> <td align=\"center\">龍騰  </td> <td>基隆市中正區義一路22號24號                                  </td></tr><tr style=\"background-color:#E9E9E9;\"> <td align=\"center\" class=\"banner\" onclick=\"return SendProcess_Retail_Inquiry_ShowRetailInformation('891246');\" style=\"cursor:pointer;font-size:large;\"><a href=\"javascript:void(0)\">891246</a></td> <td align=\"center\">巧龍  </td> <td>基隆市七堵區百三街61號                                      </td></tr><tr style=\"background-color:#FFFFFF;\"> <td align=\"center\" class=\"banner\" onclick=\"return SendProcess_Retail_Inquiry_ShowRetailInformation('892272');\" style=\"cursor:pointer;font-size:large;\"><a href=\"javascript:void(0)\">892272</a></td> <td align=\"center\">信二  </td> <td>基隆市信義區信二路167號                                     </td></tr><tr style=\"background-color:#E9E9E9;\"> <td align=\"center\" class=\"banner\" onclick=\"return SendProcess_Retail_Inquiry_ShowRetailInformation('906553');\" style=\"cursor:pointer;font-size:large;\"><a href=\"javascript:void(0)\">906553</a></td> <td align=\"center\">正濱  </td> <td>基隆市中正區豐稔街27號29號                                  </td></tr><tr style=\"background-color:#FFFFFF;\"> <td align=\"center\" class=\"banner\" onclick=\"return SendProcess_Retail_Inquiry_ShowRetailInformation('906759');\" style=\"cursor:pointer;font-size:large;\"><a href=\"javascript:void(0)\">906759</a></td> <td align=\"center\">北寧  </td> <td>基隆市中正區北寧路382號382-5號                              </td></tr><tr style=\"background-color:#E9E9E9;\"> <td align=\"center\" class=\"banner\" onclick=\"return SendProcess_Retail_Inquiry_ShowRetailInformation('928368');\" style=\"cursor:pointer;font-size:large;\"><a href=\"javascript:void(0)\">928368</a></td> <td align=\"center\">豐勝  </td> <td>基隆市中正區中正路322號1樓                                  </td></tr><tr style=\"background-color:#FFFFFF;\"> <td align=\"center\" class=\"banner\" onclick=\"return SendProcess_Retail_Inquiry_ShowRetailInformation('942478');\" style=\"cursor:pointer;font-size:large;\"><a href=\"javascript:void(0)\">942478</a></td> <td align=\"center\">新金樂</td> <td>基隆市安樂區麥金路427號                                     </td></tr><tr style=\"background-color:#E9E9E9;\"> <td align=\"center\" class=\"banner\" onclick=\"return SendProcess_Retail_Inquiry_ShowRetailInformation('951003');\" style=\"cursor:pointer;font-size:large;\"><a href=\"javascript:void(0)\">951003</a></td> <td align=\"center\">深美  </td> <td>基隆市信義區深美街196號                                     </td></tr><tr style=\"background-color:#FFFFFF;\"> <td align=\"center\" class=\"banner\" onclick=\"return SendProcess_Retail_Inquiry_ShowRetailInformation('962313');\" style=\"cursor:pointer;font-size:large;\"><a href=\"javascript:void(0)\">962313</a></td> <td align=\"center\">坤海  </td> <td>基隆市信義區東明路69號1樓                                   </td></tr><tr style=\"background-color:#E9E9E9;\"> <td align=\"center\" class=\"banner\" onclick=\"return SendProcess_Retail_Inquiry_ShowRetailInformation('970738');\" style=\"cursor:pointer;font-size:large;\"><a href=\"javascript:void(0)\">970738</a></td> <td align=\"center\">慶龍  </td> <td>基隆市仁愛區南榮路187號1樓                                  </td></tr><tr style=\"background-color:#FFFFFF;\"> <td align=\"center\" class=\"banner\" onclick=\"return SendProcess_Retail_Inquiry_ShowRetailInformation('977142');\" style=\"cursor:pointer;font-size:large;\"><a href=\"javascript:void(0)\">977142</a></td> <td align=\"center\">源遠  </td> <td>基隆市暖暖區源遠路294號296號298號1樓                        </td></tr><tr style=\"background-color:#E9E9E9;\"> <td align=\"center\" class=\"banner\" onclick=\"return SendProcess_Retail_Inquiry_ShowRetailInformation('981233');\" style=\"cursor:pointer;font-size:large;\"><a href=\"javascript:void(0)\">981233</a></td> <td align=\"center\">極品  </td> <td>基隆市仁愛區仁三路19號21號1樓2樓                            </td></tr><tr style=\"background-color:#FFFFFF;\"> <td align=\"center\" class=\"banner\" onclick=\"return SendProcess_Retail_Inquiry_ShowRetailInformation('989086');\" style=\"cursor:pointer;font-size:large;\"><a href=\"javascript:void(0)\">989086</a></td> <td align=\"center\">仁五  </td> <td>基隆市仁愛區仁五路63號1樓                                   </td></tr><tr style=\"background-color:#E9E9E9;\"> <td align=\"center\" class=\"banner\" onclick=\"return SendProcess_Retail_Inquiry_ShowRetailInformation('990879');\" style=\"cursor:pointer;font-size:large;\"><a href=\"javascript:void(0)\">990879</a></td> <td align=\"center\">大武崙</td> <td>基隆市安樂區基金一路381號383號1樓                           </td></tr></table>\n",
       "<!DOCTYPE html PUBLIC \"-//W3C//DTD XHTML 1.0 Transitional//EN\" \"http://www.w3.org/TR/xhtml1/DTD/xhtml1-transitional.dtd\">\n",
       "\n",
       "<title>\n",
       "</title>\n",
       "<form action=\"./retail_inquiry_ajax.aspx\" id=\"form1\" method=\"post\" name=\"form1\">\n",
       "<input id=\"__VIEWSTATE\" name=\"__VIEWSTATE\" type=\"hidden\" value=\"/wEPDwULLTE2MTY2ODcyMjlkZG1mh/1WYyS/dxqDbKfq++ijtqvKxRco3opCErVqmvnz\"/>\n",
       "<input id=\"__VIEWSTATEGENERATOR\" name=\"__VIEWSTATEGENERATOR\" type=\"hidden\" value=\"4B292396\"/>\n",
       "<div>\n",
       "</div>\n",
       "</form>\n",
       "</body></html>"
      ]
     },
     "execution_count": 3,
     "metadata": {},
     "output_type": "execute_result"
    }
   ],
   "source": [
    "from bs4 import BeautifulSoup\n",
    "soup=BeautifulSoup(resp.text, 'lxml')\n",
    "soup"
   ]
  },
  {
   "cell_type": "code",
   "execution_count": 4,
   "id": "7d406fad",
   "metadata": {
    "collapsed": true
   },
   "outputs": [
    {
     "data": {
      "text/plain": [
       "[<tr> <td align=\"center\" bgcolor=\"#c9e293\" class=\"black\" style=\"border:1px solid #fff; border-width:0 1px 1px 0;\" width=\"20%\">店號 </td> <td align=\"center\" bgcolor=\"#c9e293\" class=\"black\" style=\"border:1px solid #fff; border-width:0 1px 1px 0;\" width=\"20%\">店名 </td> <td align=\"center\" bgcolor=\"#c9e293\" class=\"black\" style=\"border:1px solid #fff; border-width:0 1px 1px 0;\"> 地址</td> </tr>,\n",
       " <tr style=\"background-color:#FFFFFF;\"> <td align=\"center\" class=\"banner\" onclick=\"return SendProcess_Retail_Inquiry_ShowRetailInformation('112879');\" style=\"cursor:pointer;font-size:large;\"><a href=\"javascript:void(0)\">112879</a></td> <td align=\"center\">碇內  </td> <td>基隆市暖暖區源遠路158號160號                                </td></tr>,\n",
       " <tr style=\"background-color:#E9E9E9;\"> <td align=\"center\" class=\"banner\" onclick=\"return SendProcess_Retail_Inquiry_ShowRetailInformation('117140');\" style=\"cursor:pointer;font-size:large;\"><a href=\"javascript:void(0)\">117140</a></td> <td align=\"center\">德信  </td> <td>基隆市信義區東信路50號52號1樓                               </td></tr>,\n",
       " <tr style=\"background-color:#FFFFFF;\"> <td align=\"center\" class=\"banner\" onclick=\"return SendProcess_Retail_Inquiry_ShowRetailInformation('117896');\" style=\"cursor:pointer;font-size:large;\"><a href=\"javascript:void(0)\">117896</a></td> <td align=\"center\">深澳坑</td> <td>基隆市信義區深澳坑路2-6號2-7號                              </td></tr>,\n",
       " <tr style=\"background-color:#E9E9E9;\"> <td align=\"center\" class=\"banner\" onclick=\"return SendProcess_Retail_Inquiry_ShowRetailInformation('118419');\" style=\"cursor:pointer;font-size:large;\"><a href=\"javascript:void(0)\">118419</a></td> <td align=\"center\">聖心  </td> <td>基隆市中山區西定路38號40號                                  </td></tr>,\n",
       " <tr style=\"background-color:#FFFFFF;\"> <td align=\"center\" class=\"banner\" onclick=\"return SendProcess_Retail_Inquiry_ShowRetailInformation('123525');\" style=\"cursor:pointer;font-size:large;\"><a href=\"javascript:void(0)\">123525</a></td> <td align=\"center\">滿福  </td> <td>基隆市信義區深澳坑路166之30號1樓                            </td></tr>,\n",
       " <tr style=\"background-color:#E9E9E9;\"> <td align=\"center\" class=\"banner\" onclick=\"return SendProcess_Retail_Inquiry_ShowRetailInformation('127114');\" style=\"cursor:pointer;font-size:large;\"><a href=\"javascript:void(0)\">127114</a></td> <td align=\"center\">新五福</td> <td>基隆市七堵區福五街80號82號1樓                               </td></tr>,\n",
       " <tr style=\"background-color:#FFFFFF;\"> <td align=\"center\" class=\"banner\" onclick=\"return SendProcess_Retail_Inquiry_ShowRetailInformation('132415');\" style=\"cursor:pointer;font-size:large;\"><a href=\"javascript:void(0)\">132415</a></td> <td align=\"center\">正光  </td> <td>基隆市七堵區自治街9號11號                                   </td></tr>,\n",
       " <tr style=\"background-color:#E9E9E9;\"> <td align=\"center\" class=\"banner\" onclick=\"return SendProcess_Retail_Inquiry_ShowRetailInformation('138697');\" style=\"cursor:pointer;font-size:large;\"><a href=\"javascript:void(0)\">138697</a></td> <td align=\"center\">新福樂</td> <td>基隆市信義區深溪路43號45號1樓                               </td></tr>,\n",
       " <tr style=\"background-color:#FFFFFF;\"> <td align=\"center\" class=\"banner\" onclick=\"return SendProcess_Retail_Inquiry_ShowRetailInformation('139313');\" style=\"cursor:pointer;font-size:large;\"><a href=\"javascript:void(0)\">139313</a></td> <td align=\"center\">新武嶺</td> <td>基隆市安樂區基金一路168之26號                               </td></tr>,\n",
       " <tr style=\"background-color:#E9E9E9;\"> <td align=\"center\" class=\"banner\" onclick=\"return SendProcess_Retail_Inquiry_ShowRetailInformation('140597');\" style=\"cursor:pointer;font-size:large;\"><a href=\"javascript:void(0)\">140597</a></td> <td align=\"center\">和平島</td> <td>基隆市中正區和一路125號127號1樓                             </td></tr>,\n",
       " <tr style=\"background-color:#FFFFFF;\"> <td align=\"center\" class=\"banner\" onclick=\"return SendProcess_Retail_Inquiry_ShowRetailInformation('141338');\" style=\"cursor:pointer;font-size:large;\"><a href=\"javascript:void(0)\">141338</a></td> <td align=\"center\">福聚  </td> <td>基隆市七堵區實踐路286號福二街229號1樓                       </td></tr>,\n",
       " <tr style=\"background-color:#E9E9E9;\"> <td align=\"center\" class=\"banner\" onclick=\"return SendProcess_Retail_Inquiry_ShowRetailInformation('143699');\" style=\"cursor:pointer;font-size:large;\"><a href=\"javascript:void(0)\">143699</a></td> <td align=\"center\">崁頂  </td> <td>基隆市仁愛區仁四路60號62號1樓                               </td></tr>,\n",
       " <tr style=\"background-color:#FFFFFF;\"> <td align=\"center\" class=\"banner\" onclick=\"return SendProcess_Retail_Inquiry_ShowRetailInformation('151830');\" style=\"cursor:pointer;font-size:large;\"><a href=\"javascript:void(0)\">151830</a></td> <td align=\"center\">大武嶺</td> <td>基隆市安樂區大武嶺里基金一路135巷21弄2-1號                  </td></tr>,\n",
       " <tr style=\"background-color:#E9E9E9;\"> <td align=\"center\" class=\"banner\" onclick=\"return SendProcess_Retail_Inquiry_ShowRetailInformation('154840');\" style=\"cursor:pointer;font-size:large;\"><a href=\"javascript:void(0)\">154840</a></td> <td align=\"center\">武訓  </td> <td>基隆市安樂區武訓街102號1樓                                  </td></tr>,\n",
       " <tr style=\"background-color:#FFFFFF;\"> <td align=\"center\" class=\"banner\" onclick=\"return SendProcess_Retail_Inquiry_ShowRetailInformation('155625');\" style=\"cursor:pointer;font-size:large;\"><a href=\"javascript:void(0)\">155625</a></td> <td align=\"center\">極上  </td> <td>基隆市仁愛區仁三路66號愛二路54巷10號1樓                     </td></tr>,\n",
       " <tr style=\"background-color:#E9E9E9;\"> <td align=\"center\" class=\"banner\" onclick=\"return SendProcess_Retail_Inquiry_ShowRetailInformation('159177');\" style=\"cursor:pointer;font-size:large;\"><a href=\"javascript:void(0)\">159177</a></td> <td align=\"center\">愛鑫  </td> <td>基隆市仁愛區愛二路65號                                      </td></tr>,\n",
       " <tr style=\"background-color:#FFFFFF;\"> <td align=\"center\" class=\"banner\" onclick=\"return SendProcess_Retail_Inquiry_ShowRetailInformation('161295');\" style=\"cursor:pointer;font-size:large;\"><a href=\"javascript:void(0)\">161295</a></td> <td align=\"center\">漁港  </td> <td>基隆市中正區中正路672號1樓                                  </td></tr>,\n",
       " <tr style=\"background-color:#E9E9E9;\"> <td align=\"center\" class=\"banner\" onclick=\"return SendProcess_Retail_Inquiry_ShowRetailInformation('163512');\" style=\"cursor:pointer;font-size:large;\"><a href=\"javascript:void(0)\">163512</a></td> <td align=\"center\">六工  </td> <td>基隆市七堵區工建路1之22號1之23號1樓                         </td></tr>,\n",
       " <tr style=\"background-color:#FFFFFF;\"> <td align=\"center\" class=\"banner\" onclick=\"return SendProcess_Retail_Inquiry_ShowRetailInformation('164065');\" style=\"cursor:pointer;font-size:large;\"><a href=\"javascript:void(0)\">164065</a></td> <td align=\"center\">新財發</td> <td>基隆市中正區新豐街303巷11弄1號3號1樓                        </td></tr>,\n",
       " <tr style=\"background-color:#E9E9E9;\"> <td align=\"center\" class=\"banner\" onclick=\"return SendProcess_Retail_Inquiry_ShowRetailInformation('164593');\" style=\"cursor:pointer;font-size:large;\"><a href=\"javascript:void(0)\">164593</a></td> <td align=\"center\">新長基</td> <td>基隆市安樂區安樂路二段161號                                 </td></tr>,\n",
       " <tr style=\"background-color:#FFFFFF;\"> <td align=\"center\" class=\"banner\" onclick=\"return SendProcess_Retail_Inquiry_ShowRetailInformation('170255');\" style=\"cursor:pointer;font-size:large;\"><a href=\"javascript:void(0)\">170255</a></td> <td align=\"center\">德復  </td> <td>基隆市中山區復興路193號195號197號1樓                        </td></tr>,\n",
       " <tr style=\"background-color:#E9E9E9;\"> <td align=\"center\" class=\"banner\" onclick=\"return SendProcess_Retail_Inquiry_ShowRetailInformation('170886');\" style=\"cursor:pointer;font-size:large;\"><a href=\"javascript:void(0)\">170886</a></td> <td align=\"center\">基金  </td> <td>基隆市安樂區麥金路197號1樓                                  </td></tr>,\n",
       " <tr style=\"background-color:#FFFFFF;\"> <td align=\"center\" class=\"banner\" onclick=\"return SendProcess_Retail_Inquiry_ShowRetailInformation('171007');\" style=\"cursor:pointer;font-size:large;\"><a href=\"javascript:void(0)\">171007</a></td> <td align=\"center\">七堵  </td> <td>基隆市七堵區明德一路174號                                   </td></tr>,\n",
       " <tr style=\"background-color:#E9E9E9;\"> <td align=\"center\" class=\"banner\" onclick=\"return SendProcess_Retail_Inquiry_ShowRetailInformation('171155');\" style=\"cursor:pointer;font-size:large;\"><a href=\"javascript:void(0)\">171155</a></td> <td align=\"center\">新福成</td> <td>基隆市仁愛區仁二路84號86號1樓                               </td></tr>,\n",
       " <tr style=\"background-color:#FFFFFF;\"> <td align=\"center\" class=\"banner\" onclick=\"return SendProcess_Retail_Inquiry_ShowRetailInformation('174040');\" style=\"cursor:pointer;font-size:large;\"><a href=\"javascript:void(0)\">174040</a></td> <td align=\"center\">基醫  </td> <td>基隆市信義區信二路268號1樓                                  </td></tr>,\n",
       " <tr style=\"background-color:#E9E9E9;\"> <td align=\"center\" class=\"banner\" onclick=\"return SendProcess_Retail_Inquiry_ShowRetailInformation('179827');\" style=\"cursor:pointer;font-size:large;\"><a href=\"javascript:void(0)\">179827</a></td> <td align=\"center\">新仁二</td> <td>基隆市仁愛區仁二路11號13號1樓                               </td></tr>,\n",
       " <tr style=\"background-color:#FFFFFF;\"> <td align=\"center\" class=\"banner\" onclick=\"return SendProcess_Retail_Inquiry_ShowRetailInformation('180986');\" style=\"cursor:pointer;font-size:large;\"><a href=\"javascript:void(0)\">180986</a></td> <td align=\"center\">基隆  </td> <td>基隆市仁愛區仁二路236號                                     </td></tr>,\n",
       " <tr style=\"background-color:#E9E9E9;\"> <td align=\"center\" class=\"banner\" onclick=\"return SendProcess_Retail_Inquiry_ShowRetailInformation('183284');\" style=\"cursor:pointer;font-size:large;\"><a href=\"javascript:void(0)\">183284</a></td> <td align=\"center\">晨曦  </td> <td>基隆市暖暖區東勢街6之52號6之53號1樓                         </td></tr>,\n",
       " <tr style=\"background-color:#FFFFFF;\"> <td align=\"center\" class=\"banner\" onclick=\"return SendProcess_Retail_Inquiry_ShowRetailInformation('184874');\" style=\"cursor:pointer;font-size:large;\"><a href=\"javascript:void(0)\">184874</a></td> <td align=\"center\">新廟口</td> <td>基隆市仁愛區仁二路228號1樓                                  </td></tr>,\n",
       " <tr style=\"background-color:#E9E9E9;\"> <td align=\"center\" class=\"banner\" onclick=\"return SendProcess_Retail_Inquiry_ShowRetailInformation('187530');\" style=\"cursor:pointer;font-size:large;\"><a href=\"javascript:void(0)\">187530</a></td> <td align=\"center\">麥金  </td> <td>基隆市安樂區基金三路80號80-1號1樓                           </td></tr>,\n",
       " <tr style=\"background-color:#FFFFFF;\"> <td align=\"center\" class=\"banner\" onclick=\"return SendProcess_Retail_Inquiry_ShowRetailInformation('189075');\" style=\"cursor:pointer;font-size:large;\"><a href=\"javascript:void(0)\">189075</a></td> <td align=\"center\">永富  </td> <td>基隆市七堵區永富路99號101號103號1樓                         </td></tr>,\n",
       " <tr style=\"background-color:#E9E9E9;\"> <td align=\"center\" class=\"banner\" onclick=\"return SendProcess_Retail_Inquiry_ShowRetailInformation('194538');\" style=\"cursor:pointer;font-size:large;\"><a href=\"javascript:void(0)\">194538</a></td> <td align=\"center\">基隆南</td> <td>基隆市仁愛區港西街5號1樓                                    </td></tr>,\n",
       " <tr style=\"background-color:#FFFFFF;\"> <td align=\"center\" class=\"banner\" onclick=\"return SendProcess_Retail_Inquiry_ShowRetailInformation('196279');\" style=\"cursor:pointer;font-size:large;\"><a href=\"javascript:void(0)\">196279</a></td> <td align=\"center\">美的  </td> <td>基隆市信義區教孝街28號1樓                                   </td></tr>,\n",
       " <tr style=\"background-color:#E9E9E9;\"> <td align=\"center\" class=\"banner\" onclick=\"return SendProcess_Retail_Inquiry_ShowRetailInformation('196707');\" style=\"cursor:pointer;font-size:large;\"><a href=\"javascript:void(0)\">196707</a></td> <td align=\"center\">港隆  </td> <td>基隆市仁愛區孝四路23號1樓                                   </td></tr>,\n",
       " <tr style=\"background-color:#FFFFFF;\"> <td align=\"center\" class=\"banner\" onclick=\"return SendProcess_Retail_Inquiry_ShowRetailInformation('197412');\" style=\"cursor:pointer;font-size:large;\"><a href=\"javascript:void(0)\">197412</a></td> <td align=\"center\">忠三  </td> <td>基隆市仁愛區忠三路52之1號54號1樓                            </td></tr>,\n",
       " <tr style=\"background-color:#E9E9E9;\"> <td align=\"center\" class=\"banner\" onclick=\"return SendProcess_Retail_Inquiry_ShowRetailInformation('197777');\" style=\"cursor:pointer;font-size:large;\"><a href=\"javascript:void(0)\">197777</a></td> <td align=\"center\">旭東  </td> <td>基隆市中正區中正路54號                                      </td></tr>,\n",
       " <tr style=\"background-color:#FFFFFF;\"> <td align=\"center\" class=\"banner\" onclick=\"return SendProcess_Retail_Inquiry_ShowRetailInformation('197984');\" style=\"cursor:pointer;font-size:large;\"><a href=\"javascript:void(0)\">197984</a></td> <td align=\"center\">瑞金  </td> <td>基隆市安樂區基金三路75號75之1號1樓                          </td></tr>,\n",
       " <tr style=\"background-color:#E9E9E9;\"> <td align=\"center\" class=\"banner\" onclick=\"return SendProcess_Retail_Inquiry_ShowRetailInformation('207425');\" style=\"cursor:pointer;font-size:large;\"><a href=\"javascript:void(0)\">207425</a></td> <td align=\"center\">港都  </td> <td>基隆市中正區義二路8號1樓                                    </td></tr>,\n",
       " <tr style=\"background-color:#FFFFFF;\"> <td align=\"center\" class=\"banner\" onclick=\"return SendProcess_Retail_Inquiry_ShowRetailInformation('208082');\" style=\"cursor:pointer;font-size:large;\"><a href=\"javascript:void(0)\">208082</a></td> <td align=\"center\">港富  </td> <td>基隆市中山區中華路93號                                      </td></tr>,\n",
       " <tr style=\"background-color:#E9E9E9;\"> <td align=\"center\" class=\"banner\" onclick=\"return SendProcess_Retail_Inquiry_ShowRetailInformation('209122');\" style=\"cursor:pointer;font-size:large;\"><a href=\"javascript:void(0)\">209122</a></td> <td align=\"center\">篤勝  </td> <td>基隆市七堵區大德路103號                                     </td></tr>,\n",
       " <tr style=\"background-color:#FFFFFF;\"> <td align=\"center\" class=\"banner\" onclick=\"return SendProcess_Retail_Inquiry_ShowRetailInformation('210535');\" style=\"cursor:pointer;font-size:large;\"><a href=\"javascript:void(0)\">210535</a></td> <td align=\"center\">福二  </td> <td>基隆市七堵區福二街157號1樓                                  </td></tr>,\n",
       " <tr style=\"background-color:#E9E9E9;\"> <td align=\"center\" class=\"banner\" onclick=\"return SendProcess_Retail_Inquiry_ShowRetailInformation('210720');\" style=\"cursor:pointer;font-size:large;\"><a href=\"javascript:void(0)\">210720</a></td> <td align=\"center\">七堵站</td> <td>基隆市七堵區東新街2號1樓                                    </td></tr>,\n",
       " <tr style=\"background-color:#FFFFFF;\"> <td align=\"center\" class=\"banner\" onclick=\"return SendProcess_Retail_Inquiry_ShowRetailInformation('211398');\" style=\"cursor:pointer;font-size:large;\"><a href=\"javascript:void(0)\">211398</a></td> <td align=\"center\">極緻  </td> <td>基隆市仁愛區仁二路211號1樓                                  </td></tr>,\n",
       " <tr style=\"background-color:#E9E9E9;\"> <td align=\"center\" class=\"banner\" onclick=\"return SendProcess_Retail_Inquiry_ShowRetailInformation('214825');\" style=\"cursor:pointer;font-size:large;\"><a href=\"javascript:void(0)\">214825</a></td> <td align=\"center\">新華成</td> <td>基隆市仁愛區成功一路115號117號1樓                           </td></tr>,\n",
       " <tr style=\"background-color:#FFFFFF;\"> <td align=\"center\" class=\"banner\" onclick=\"return SendProcess_Retail_Inquiry_ShowRetailInformation('215297');\" style=\"cursor:pointer;font-size:large;\"><a href=\"javascript:void(0)\">215297</a></td> <td align=\"center\">翔濱  </td> <td>基隆市中正區祥豐街339號1樓                                  </td></tr>,\n",
       " <tr style=\"background-color:#E9E9E9;\"> <td align=\"center\" class=\"banner\" onclick=\"return SendProcess_Retail_Inquiry_ShowRetailInformation('227625');\" style=\"cursor:pointer;font-size:large;\"><a href=\"javascript:void(0)\">227625</a></td> <td align=\"center\">東明  </td> <td>基隆市信義區東明路181號183號1樓                             </td></tr>,\n",
       " <tr style=\"background-color:#FFFFFF;\"> <td align=\"center\" class=\"banner\" onclick=\"return SendProcess_Retail_Inquiry_ShowRetailInformation('231989');\" style=\"cursor:pointer;font-size:large;\"><a href=\"javascript:void(0)\">231989</a></td> <td align=\"center\">觀山海</td> <td>基隆市中正區砂子里觀海街49號51號1樓                         </td></tr>,\n",
       " <tr style=\"background-color:#E9E9E9;\"> <td align=\"center\" class=\"banner\" onclick=\"return SendProcess_Retail_Inquiry_ShowRetailInformation('235198');\" style=\"cursor:pointer;font-size:large;\"><a href=\"javascript:void(0)\">235198</a></td> <td align=\"center\">新橫濱</td> <td>基隆市中山區復興路209之3號1樓                               </td></tr>,\n",
       " <tr style=\"background-color:#FFFFFF;\"> <td align=\"center\" class=\"banner\" onclick=\"return SendProcess_Retail_Inquiry_ShowRetailInformation('236696');\" style=\"cursor:pointer;font-size:large;\"><a href=\"javascript:void(0)\">236696</a></td> <td align=\"center\">愛六  </td> <td>基隆市仁愛區仁一路281號1樓                                  </td></tr>,\n",
       " <tr style=\"background-color:#E9E9E9;\"> <td align=\"center\" class=\"banner\" onclick=\"return SendProcess_Retail_Inquiry_ShowRetailInformation('236788');\" style=\"cursor:pointer;font-size:large;\"><a href=\"javascript:void(0)\">236788</a></td> <td align=\"center\">深瑞  </td> <td>基隆市信義區深澳坑路129號1樓                                </td></tr>,\n",
       " <tr style=\"background-color:#FFFFFF;\"> <td align=\"center\" class=\"banner\" onclick=\"return SendProcess_Retail_Inquiry_ShowRetailInformation('238278');\" style=\"cursor:pointer;font-size:large;\"><a href=\"javascript:void(0)\">238278</a></td> <td align=\"center\">新壯觀</td> <td>基隆市安樂區麥金路64號66號1樓                               </td></tr>,\n",
       " <tr style=\"background-color:#E9E9E9;\"> <td align=\"center\" class=\"banner\" onclick=\"return SendProcess_Retail_Inquiry_ShowRetailInformation('239271');\" style=\"cursor:pointer;font-size:large;\"><a href=\"javascript:void(0)\">239271</a></td> <td align=\"center\">德欣  </td> <td>基隆市中山區復興路328號之6號之7號1樓                        </td></tr>,\n",
       " <tr style=\"background-color:#FFFFFF;\"> <td align=\"center\" class=\"banner\" onclick=\"return SendProcess_Retail_Inquiry_ShowRetailInformation('240167');\" style=\"cursor:pointer;font-size:large;\"><a href=\"javascript:void(0)\">240167</a></td> <td align=\"center\">新暖東</td> <td>基隆市暖暖區暖暖街175號177號1樓                             </td></tr>,\n",
       " <tr style=\"background-color:#E9E9E9;\"> <td align=\"center\" class=\"banner\" onclick=\"return SendProcess_Retail_Inquiry_ShowRetailInformation('243650');\" style=\"cursor:pointer;font-size:large;\"><a href=\"javascript:void(0)\">243650</a></td> <td align=\"center\">哨船頭</td> <td>基隆市中正區義一路83號1樓                                   </td></tr>,\n",
       " <tr style=\"background-color:#FFFFFF;\"> <td align=\"center\" class=\"banner\" onclick=\"return SendProcess_Retail_Inquiry_ShowRetailInformation('243719');\" style=\"cursor:pointer;font-size:large;\"><a href=\"javascript:void(0)\">243719</a></td> <td align=\"center\">基信  </td> <td>基隆市信義區信二路23號23之4號                               </td></tr>,\n",
       " <tr style=\"background-color:#E9E9E9;\"> <td align=\"center\" class=\"banner\" onclick=\"return SendProcess_Retail_Inquiry_ShowRetailInformation('249186');\" style=\"cursor:pointer;font-size:large;\"><a href=\"javascript:void(0)\">249186</a></td> <td align=\"center\">暖碇  </td> <td>基隆市暖暖區碇內街9號11號                                   </td></tr>,\n",
       " <tr style=\"background-color:#FFFFFF;\"> <td align=\"center\" class=\"banner\" onclick=\"return SendProcess_Retail_Inquiry_ShowRetailInformation('249348');\" style=\"cursor:pointer;font-size:large;\"><a href=\"javascript:void(0)\">249348</a></td> <td align=\"center\">崇信  </td> <td>基隆市信義區東信路212-4及214號1樓                           </td></tr>,\n",
       " <tr style=\"background-color:#E9E9E9;\"> <td align=\"center\" class=\"banner\" onclick=\"return SendProcess_Retail_Inquiry_ShowRetailInformation('249496');\" style=\"cursor:pointer;font-size:large;\"><a href=\"javascript:void(0)\">249496</a></td> <td align=\"center\">杰昕  </td> <td>基隆市信義區信二路243號245號                                </td></tr>,\n",
       " <tr style=\"background-color:#FFFFFF;\"> <td align=\"center\" class=\"banner\" onclick=\"return SendProcess_Retail_Inquiry_ShowRetailInformation('249511');\" style=\"cursor:pointer;font-size:large;\"><a href=\"javascript:void(0)\">249511</a></td> <td align=\"center\">孝三  </td> <td>基隆市仁愛區孝三路89號91號1樓                               </td></tr>,\n",
       " <tr style=\"background-color:#E9E9E9;\"> <td align=\"center\" class=\"banner\" onclick=\"return SendProcess_Retail_Inquiry_ShowRetailInformation('249599');\" style=\"cursor:pointer;font-size:large;\"><a href=\"javascript:void(0)\">249599</a></td> <td align=\"center\">八斗子</td> <td>基隆市中正區北寧路327號1樓                                  </td></tr>,\n",
       " <tr style=\"background-color:#FFFFFF;\"> <td align=\"center\" class=\"banner\" onclick=\"return SendProcess_Retail_Inquiry_ShowRetailInformation('250728');\" style=\"cursor:pointer;font-size:large;\"><a href=\"javascript:void(0)\">250728</a></td> <td align=\"center\">樂添  </td> <td>基隆市安樂區樂利二街62巷291號2樓292號293號1樓               </td></tr>,\n",
       " <tr style=\"background-color:#E9E9E9;\"> <td align=\"center\" class=\"banner\" onclick=\"return SendProcess_Retail_Inquiry_ShowRetailInformation('251662');\" style=\"cursor:pointer;font-size:large;\"><a href=\"javascript:void(0)\">251662</a></td> <td align=\"center\">和豐  </td> <td>基隆市中正區新豐街203號1樓                                  </td></tr>,\n",
       " <tr style=\"background-color:#FFFFFF;\"> <td align=\"center\" class=\"banner\" onclick=\"return SendProcess_Retail_Inquiry_ShowRetailInformation('252584');\" style=\"cursor:pointer;font-size:large;\"><a href=\"javascript:void(0)\">252584</a></td> <td align=\"center\">暖鑫  </td> <td>基隆市暖暖區暖暖街554號                                     </td></tr>,\n",
       " <tr style=\"background-color:#E9E9E9;\"> <td align=\"center\" class=\"banner\" onclick=\"return SendProcess_Retail_Inquiry_ShowRetailInformation('252816');\" style=\"cursor:pointer;font-size:large;\"><a href=\"javascript:void(0)\">252816</a></td> <td align=\"center\">武晴  </td> <td>基隆市安樂區基金一路214之17號                               </td></tr>,\n",
       " <tr style=\"background-color:#FFFFFF;\"> <td align=\"center\" class=\"banner\" onclick=\"return SendProcess_Retail_Inquiry_ShowRetailInformation('253417');\" style=\"cursor:pointer;font-size:large;\"><a href=\"javascript:void(0)\">253417</a></td> <td align=\"center\">華新一</td> <td>基隆市七堵區華新一路22號26號1樓                             </td></tr>,\n",
       " <tr style=\"background-color:#E9E9E9;\"> <td align=\"center\" class=\"banner\" onclick=\"return SendProcess_Retail_Inquiry_ShowRetailInformation('253495');\" style=\"cursor:pointer;font-size:large;\"><a href=\"javascript:void(0)\">253495</a></td> <td align=\"center\">安一  </td> <td>基隆市安樂區安一路172及174號                                </td></tr>,\n",
       " <tr style=\"background-color:#FFFFFF;\"> <td align=\"center\" class=\"banner\" onclick=\"return SendProcess_Retail_Inquiry_ShowRetailInformation('254225');\" style=\"cursor:pointer;font-size:large;\"><a href=\"javascript:void(0)\">254225</a></td> <td align=\"center\">富華  </td> <td>基隆市中山區中華路9號                                       </td></tr>,\n",
       " <tr style=\"background-color:#E9E9E9;\"> <td align=\"center\" class=\"banner\" onclick=\"return SendProcess_Retail_Inquiry_ShowRetailInformation('254340');\" style=\"cursor:pointer;font-size:large;\"><a href=\"javascript:void(0)\">254340</a></td> <td align=\"center\">篤鑫  </td> <td>基隆市七堵區堵南街22-1號1樓                                 </td></tr>,\n",
       " <tr style=\"background-color:#FFFFFF;\"> <td align=\"center\" class=\"banner\" onclick=\"return SendProcess_Retail_Inquiry_ShowRetailInformation('255413');\" style=\"cursor:pointer;font-size:large;\"><a href=\"javascript:void(0)\">255413</a></td> <td align=\"center\">樂三  </td> <td>基隆市安樂區樂利三街257號259號1樓                           </td></tr>,\n",
       " <tr style=\"background-color:#E9E9E9;\"> <td align=\"center\" class=\"banner\" onclick=\"return SendProcess_Retail_Inquiry_ShowRetailInformation('261049');\" style=\"cursor:pointer;font-size:large;\"><a href=\"javascript:void(0)\">261049</a></td> <td align=\"center\">海洋  </td> <td>基隆市中正區中正路609號1樓                                  </td></tr>,\n",
       " <tr style=\"background-color:#FFFFFF;\"> <td align=\"center\" class=\"banner\" onclick=\"return SendProcess_Retail_Inquiry_ShowRetailInformation('263001');\" style=\"cursor:pointer;font-size:large;\"><a href=\"javascript:void(0)\">263001</a></td> <td align=\"center\">基義  </td> <td>基隆市中正區義二路181號185號1樓                             </td></tr>,\n",
       " <tr style=\"background-color:#E9E9E9;\"> <td align=\"center\" class=\"banner\" onclick=\"return SendProcess_Retail_Inquiry_ShowRetailInformation('263517');\" style=\"cursor:pointer;font-size:large;\"><a href=\"javascript:void(0)\">263517</a></td> <td align=\"center\">新和慶</td> <td>基隆市安樂區中和路166之5號166之6號1樓                       </td></tr>,\n",
       " <tr style=\"background-color:#FFFFFF;\"> <td align=\"center\" class=\"banner\" onclick=\"return SendProcess_Retail_Inquiry_ShowRetailInformation('263687');\" style=\"cursor:pointer;font-size:large;\"><a href=\"javascript:void(0)\">263687</a></td> <td align=\"center\">財豐  </td> <td>基隆市中正區新豐街389號1樓                                  </td></tr>,\n",
       " <tr style=\"background-color:#E9E9E9;\"> <td align=\"center\" class=\"banner\" onclick=\"return SendProcess_Retail_Inquiry_ShowRetailInformation('263713');\" style=\"cursor:pointer;font-size:large;\"><a href=\"javascript:void(0)\">263713</a></td> <td align=\"center\">新大慶</td> <td>基隆市中山區中和路168巷7弄13號15號1樓                       </td></tr>,\n",
       " <tr style=\"background-color:#FFFFFF;\"> <td align=\"center\" class=\"banner\" onclick=\"return SendProcess_Retail_Inquiry_ShowRetailInformation('886303');\" style=\"cursor:pointer;font-size:large;\"><a href=\"javascript:void(0)\">886303</a></td> <td align=\"center\">龍騰  </td> <td>基隆市中正區義一路22號24號                                  </td></tr>,\n",
       " <tr style=\"background-color:#E9E9E9;\"> <td align=\"center\" class=\"banner\" onclick=\"return SendProcess_Retail_Inquiry_ShowRetailInformation('891246');\" style=\"cursor:pointer;font-size:large;\"><a href=\"javascript:void(0)\">891246</a></td> <td align=\"center\">巧龍  </td> <td>基隆市七堵區百三街61號                                      </td></tr>,\n",
       " <tr style=\"background-color:#FFFFFF;\"> <td align=\"center\" class=\"banner\" onclick=\"return SendProcess_Retail_Inquiry_ShowRetailInformation('892272');\" style=\"cursor:pointer;font-size:large;\"><a href=\"javascript:void(0)\">892272</a></td> <td align=\"center\">信二  </td> <td>基隆市信義區信二路167號                                     </td></tr>,\n",
       " <tr style=\"background-color:#E9E9E9;\"> <td align=\"center\" class=\"banner\" onclick=\"return SendProcess_Retail_Inquiry_ShowRetailInformation('906553');\" style=\"cursor:pointer;font-size:large;\"><a href=\"javascript:void(0)\">906553</a></td> <td align=\"center\">正濱  </td> <td>基隆市中正區豐稔街27號29號                                  </td></tr>,\n",
       " <tr style=\"background-color:#FFFFFF;\"> <td align=\"center\" class=\"banner\" onclick=\"return SendProcess_Retail_Inquiry_ShowRetailInformation('906759');\" style=\"cursor:pointer;font-size:large;\"><a href=\"javascript:void(0)\">906759</a></td> <td align=\"center\">北寧  </td> <td>基隆市中正區北寧路382號382-5號                              </td></tr>,\n",
       " <tr style=\"background-color:#E9E9E9;\"> <td align=\"center\" class=\"banner\" onclick=\"return SendProcess_Retail_Inquiry_ShowRetailInformation('928368');\" style=\"cursor:pointer;font-size:large;\"><a href=\"javascript:void(0)\">928368</a></td> <td align=\"center\">豐勝  </td> <td>基隆市中正區中正路322號1樓                                  </td></tr>,\n",
       " <tr style=\"background-color:#FFFFFF;\"> <td align=\"center\" class=\"banner\" onclick=\"return SendProcess_Retail_Inquiry_ShowRetailInformation('942478');\" style=\"cursor:pointer;font-size:large;\"><a href=\"javascript:void(0)\">942478</a></td> <td align=\"center\">新金樂</td> <td>基隆市安樂區麥金路427號                                     </td></tr>,\n",
       " <tr style=\"background-color:#E9E9E9;\"> <td align=\"center\" class=\"banner\" onclick=\"return SendProcess_Retail_Inquiry_ShowRetailInformation('951003');\" style=\"cursor:pointer;font-size:large;\"><a href=\"javascript:void(0)\">951003</a></td> <td align=\"center\">深美  </td> <td>基隆市信義區深美街196號                                     </td></tr>,\n",
       " <tr style=\"background-color:#FFFFFF;\"> <td align=\"center\" class=\"banner\" onclick=\"return SendProcess_Retail_Inquiry_ShowRetailInformation('962313');\" style=\"cursor:pointer;font-size:large;\"><a href=\"javascript:void(0)\">962313</a></td> <td align=\"center\">坤海  </td> <td>基隆市信義區東明路69號1樓                                   </td></tr>,\n",
       " <tr style=\"background-color:#E9E9E9;\"> <td align=\"center\" class=\"banner\" onclick=\"return SendProcess_Retail_Inquiry_ShowRetailInformation('970738');\" style=\"cursor:pointer;font-size:large;\"><a href=\"javascript:void(0)\">970738</a></td> <td align=\"center\">慶龍  </td> <td>基隆市仁愛區南榮路187號1樓                                  </td></tr>,\n",
       " <tr style=\"background-color:#FFFFFF;\"> <td align=\"center\" class=\"banner\" onclick=\"return SendProcess_Retail_Inquiry_ShowRetailInformation('977142');\" style=\"cursor:pointer;font-size:large;\"><a href=\"javascript:void(0)\">977142</a></td> <td align=\"center\">源遠  </td> <td>基隆市暖暖區源遠路294號296號298號1樓                        </td></tr>,\n",
       " <tr style=\"background-color:#E9E9E9;\"> <td align=\"center\" class=\"banner\" onclick=\"return SendProcess_Retail_Inquiry_ShowRetailInformation('981233');\" style=\"cursor:pointer;font-size:large;\"><a href=\"javascript:void(0)\">981233</a></td> <td align=\"center\">極品  </td> <td>基隆市仁愛區仁三路19號21號1樓2樓                            </td></tr>,\n",
       " <tr style=\"background-color:#FFFFFF;\"> <td align=\"center\" class=\"banner\" onclick=\"return SendProcess_Retail_Inquiry_ShowRetailInformation('989086');\" style=\"cursor:pointer;font-size:large;\"><a href=\"javascript:void(0)\">989086</a></td> <td align=\"center\">仁五  </td> <td>基隆市仁愛區仁五路63號1樓                                   </td></tr>,\n",
       " <tr style=\"background-color:#E9E9E9;\"> <td align=\"center\" class=\"banner\" onclick=\"return SendProcess_Retail_Inquiry_ShowRetailInformation('990879');\" style=\"cursor:pointer;font-size:large;\"><a href=\"javascript:void(0)\">990879</a></td> <td align=\"center\">大武崙</td> <td>基隆市安樂區基金一路381號383號1樓                           </td></tr>]"
      ]
     },
     "execution_count": 4,
     "metadata": {},
     "output_type": "execute_result"
    }
   ],
   "source": [
    "trs=soup.find('table').find_all('tr')\n",
    "trs"
   ]
  },
  {
   "cell_type": "code",
   "execution_count": 5,
   "id": "5b7603b4",
   "metadata": {},
   "outputs": [
    {
     "data": {
      "text/plain": [
       "89"
      ]
     },
     "execution_count": 5,
     "metadata": {},
     "output_type": "execute_result"
    }
   ],
   "source": [
    "len(trs)"
   ]
  },
  {
   "cell_type": "code",
   "execution_count": 6,
   "id": "f1b7d0fb",
   "metadata": {},
   "outputs": [
    {
     "data": {
      "text/plain": [
       "[<td align=\"center\" class=\"banner\" onclick=\"return SendProcess_Retail_Inquiry_ShowRetailInformation('112879');\" style=\"cursor:pointer;font-size:large;\"><a href=\"javascript:void(0)\">112879</a></td>,\n",
       " <td align=\"center\">碇內  </td>,\n",
       " <td>基隆市暖暖區源遠路158號160號                                </td>]"
      ]
     },
     "execution_count": 6,
     "metadata": {},
     "output_type": "execute_result"
    }
   ],
   "source": [
    "tds = trs[1].find_all('td')\n",
    "tds"
   ]
  },
  {
   "cell_type": "code",
   "execution_count": 7,
   "id": "4bdf3670",
   "metadata": {},
   "outputs": [
    {
     "name": "stdout",
     "output_type": "stream",
     "text": [
      "112879\n",
      "碇內\n",
      "基隆市暖暖區源遠路158號160號\n"
     ]
    }
   ],
   "source": [
    "for td in tds:\n",
    "    shop=td.text.strip()\n",
    "    print(shop)"
   ]
  },
  {
   "cell_type": "code",
   "execution_count": 8,
   "id": "8d8f9625",
   "metadata": {
    "collapsed": true
   },
   "outputs": [
    {
     "data": {
      "text/plain": [
       "[['112879', '碇內', '基隆市暖暖區源遠路158號160號'],\n",
       " ['117140', '德信', '基隆市信義區東信路50號52號1樓'],\n",
       " ['117896', '深澳坑', '基隆市信義區深澳坑路2-6號2-7號'],\n",
       " ['118419', '聖心', '基隆市中山區西定路38號40號'],\n",
       " ['123525', '滿福', '基隆市信義區深澳坑路166之30號1樓'],\n",
       " ['127114', '新五福', '基隆市七堵區福五街80號82號1樓'],\n",
       " ['132415', '正光', '基隆市七堵區自治街9號11號'],\n",
       " ['138697', '新福樂', '基隆市信義區深溪路43號45號1樓'],\n",
       " ['139313', '新武嶺', '基隆市安樂區基金一路168之26號'],\n",
       " ['140597', '和平島', '基隆市中正區和一路125號127號1樓'],\n",
       " ['141338', '福聚', '基隆市七堵區實踐路286號福二街229號1樓'],\n",
       " ['143699', '崁頂', '基隆市仁愛區仁四路60號62號1樓'],\n",
       " ['151830', '大武嶺', '基隆市安樂區大武嶺里基金一路135巷21弄2-1號'],\n",
       " ['154840', '武訓', '基隆市安樂區武訓街102號1樓'],\n",
       " ['155625', '極上', '基隆市仁愛區仁三路66號愛二路54巷10號1樓'],\n",
       " ['159177', '愛鑫', '基隆市仁愛區愛二路65號'],\n",
       " ['161295', '漁港', '基隆市中正區中正路672號1樓'],\n",
       " ['163512', '六工', '基隆市七堵區工建路1之22號1之23號1樓'],\n",
       " ['164065', '新財發', '基隆市中正區新豐街303巷11弄1號3號1樓'],\n",
       " ['164593', '新長基', '基隆市安樂區安樂路二段161號'],\n",
       " ['170255', '德復', '基隆市中山區復興路193號195號197號1樓'],\n",
       " ['170886', '基金', '基隆市安樂區麥金路197號1樓'],\n",
       " ['171007', '七堵', '基隆市七堵區明德一路174號'],\n",
       " ['171155', '新福成', '基隆市仁愛區仁二路84號86號1樓'],\n",
       " ['174040', '基醫', '基隆市信義區信二路268號1樓'],\n",
       " ['179827', '新仁二', '基隆市仁愛區仁二路11號13號1樓'],\n",
       " ['180986', '基隆', '基隆市仁愛區仁二路236號'],\n",
       " ['183284', '晨曦', '基隆市暖暖區東勢街6之52號6之53號1樓'],\n",
       " ['184874', '新廟口', '基隆市仁愛區仁二路228號1樓'],\n",
       " ['187530', '麥金', '基隆市安樂區基金三路80號80-1號1樓'],\n",
       " ['189075', '永富', '基隆市七堵區永富路99號101號103號1樓'],\n",
       " ['194538', '基隆南', '基隆市仁愛區港西街5號1樓'],\n",
       " ['196279', '美的', '基隆市信義區教孝街28號1樓'],\n",
       " ['196707', '港隆', '基隆市仁愛區孝四路23號1樓'],\n",
       " ['197412', '忠三', '基隆市仁愛區忠三路52之1號54號1樓'],\n",
       " ['197777', '旭東', '基隆市中正區中正路54號'],\n",
       " ['197984', '瑞金', '基隆市安樂區基金三路75號75之1號1樓'],\n",
       " ['207425', '港都', '基隆市中正區義二路8號1樓'],\n",
       " ['208082', '港富', '基隆市中山區中華路93號'],\n",
       " ['209122', '篤勝', '基隆市七堵區大德路103號'],\n",
       " ['210535', '福二', '基隆市七堵區福二街157號1樓'],\n",
       " ['210720', '七堵站', '基隆市七堵區東新街2號1樓'],\n",
       " ['211398', '極緻', '基隆市仁愛區仁二路211號1樓'],\n",
       " ['214825', '新華成', '基隆市仁愛區成功一路115號117號1樓'],\n",
       " ['215297', '翔濱', '基隆市中正區祥豐街339號1樓'],\n",
       " ['227625', '東明', '基隆市信義區東明路181號183號1樓'],\n",
       " ['231989', '觀山海', '基隆市中正區砂子里觀海街49號51號1樓'],\n",
       " ['235198', '新橫濱', '基隆市中山區復興路209之3號1樓'],\n",
       " ['236696', '愛六', '基隆市仁愛區仁一路281號1樓'],\n",
       " ['236788', '深瑞', '基隆市信義區深澳坑路129號1樓'],\n",
       " ['238278', '新壯觀', '基隆市安樂區麥金路64號66號1樓'],\n",
       " ['239271', '德欣', '基隆市中山區復興路328號之6號之7號1樓'],\n",
       " ['240167', '新暖東', '基隆市暖暖區暖暖街175號177號1樓'],\n",
       " ['243650', '哨船頭', '基隆市中正區義一路83號1樓'],\n",
       " ['243719', '基信', '基隆市信義區信二路23號23之4號'],\n",
       " ['249186', '暖碇', '基隆市暖暖區碇內街9號11號'],\n",
       " ['249348', '崇信', '基隆市信義區東信路212-4及214號1樓'],\n",
       " ['249496', '杰昕', '基隆市信義區信二路243號245號'],\n",
       " ['249511', '孝三', '基隆市仁愛區孝三路89號91號1樓'],\n",
       " ['249599', '八斗子', '基隆市中正區北寧路327號1樓'],\n",
       " ['250728', '樂添', '基隆市安樂區樂利二街62巷291號2樓292號293號1樓'],\n",
       " ['251662', '和豐', '基隆市中正區新豐街203號1樓'],\n",
       " ['252584', '暖鑫', '基隆市暖暖區暖暖街554號'],\n",
       " ['252816', '武晴', '基隆市安樂區基金一路214之17號'],\n",
       " ['253417', '華新一', '基隆市七堵區華新一路22號26號1樓'],\n",
       " ['253495', '安一', '基隆市安樂區安一路172及174號'],\n",
       " ['254225', '富華', '基隆市中山區中華路9號'],\n",
       " ['254340', '篤鑫', '基隆市七堵區堵南街22-1號1樓'],\n",
       " ['255413', '樂三', '基隆市安樂區樂利三街257號259號1樓'],\n",
       " ['261049', '海洋', '基隆市中正區中正路609號1樓'],\n",
       " ['263001', '基義', '基隆市中正區義二路181號185號1樓'],\n",
       " ['263517', '新和慶', '基隆市安樂區中和路166之5號166之6號1樓'],\n",
       " ['263687', '財豐', '基隆市中正區新豐街389號1樓'],\n",
       " ['263713', '新大慶', '基隆市中山區中和路168巷7弄13號15號1樓'],\n",
       " ['886303', '龍騰', '基隆市中正區義一路22號24號'],\n",
       " ['891246', '巧龍', '基隆市七堵區百三街61號'],\n",
       " ['892272', '信二', '基隆市信義區信二路167號'],\n",
       " ['906553', '正濱', '基隆市中正區豐稔街27號29號'],\n",
       " ['906759', '北寧', '基隆市中正區北寧路382號382-5號'],\n",
       " ['928368', '豐勝', '基隆市中正區中正路322號1樓'],\n",
       " ['942478', '新金樂', '基隆市安樂區麥金路427號'],\n",
       " ['951003', '深美', '基隆市信義區深美街196號'],\n",
       " ['962313', '坤海', '基隆市信義區東明路69號1樓'],\n",
       " ['970738', '慶龍', '基隆市仁愛區南榮路187號1樓'],\n",
       " ['977142', '源遠', '基隆市暖暖區源遠路294號296號298號1樓'],\n",
       " ['981233', '極品', '基隆市仁愛區仁三路19號21號1樓2樓'],\n",
       " ['989086', '仁五', '基隆市仁愛區仁五路63號1樓'],\n",
       " ['990879', '大武崙', '基隆市安樂區基金一路381號383號1樓']]"
      ]
     },
     "execution_count": 8,
     "metadata": {},
     "output_type": "execute_result"
    }
   ],
   "source": [
    "shops=[]\n",
    "for i in range(1, 89): #扣掉第一欄的欄位名稱\n",
    "    shop=[]\n",
    "    tds = trs[i].find_all('td')\n",
    "    for td in tds:\n",
    "        shop.append(td.text.strip())\n",
    "    shops.append(shop)\n",
    "shops"
   ]
  },
  {
   "cell_type": "code",
   "execution_count": 9,
   "id": "3bc86127",
   "metadata": {},
   "outputs": [
    {
     "data": {
      "text/html": [
       "<div>\n",
       "<style scoped>\n",
       "    .dataframe tbody tr th:only-of-type {\n",
       "        vertical-align: middle;\n",
       "    }\n",
       "\n",
       "    .dataframe tbody tr th {\n",
       "        vertical-align: top;\n",
       "    }\n",
       "\n",
       "    .dataframe thead th {\n",
       "        text-align: right;\n",
       "    }\n",
       "</style>\n",
       "<table border=\"1\" class=\"dataframe\">\n",
       "  <thead>\n",
       "    <tr style=\"text-align: right;\">\n",
       "      <th></th>\n",
       "      <th>店號</th>\n",
       "      <th>店名</th>\n",
       "      <th>地址</th>\n",
       "    </tr>\n",
       "  </thead>\n",
       "  <tbody>\n",
       "    <tr>\n",
       "      <th>0</th>\n",
       "      <td>112879</td>\n",
       "      <td>碇內</td>\n",
       "      <td>基隆市暖暖區源遠路158號160號</td>\n",
       "    </tr>\n",
       "    <tr>\n",
       "      <th>1</th>\n",
       "      <td>117140</td>\n",
       "      <td>德信</td>\n",
       "      <td>基隆市信義區東信路50號52號1樓</td>\n",
       "    </tr>\n",
       "    <tr>\n",
       "      <th>2</th>\n",
       "      <td>117896</td>\n",
       "      <td>深澳坑</td>\n",
       "      <td>基隆市信義區深澳坑路2-6號2-7號</td>\n",
       "    </tr>\n",
       "    <tr>\n",
       "      <th>3</th>\n",
       "      <td>118419</td>\n",
       "      <td>聖心</td>\n",
       "      <td>基隆市中山區西定路38號40號</td>\n",
       "    </tr>\n",
       "    <tr>\n",
       "      <th>4</th>\n",
       "      <td>123525</td>\n",
       "      <td>滿福</td>\n",
       "      <td>基隆市信義區深澳坑路166之30號1樓</td>\n",
       "    </tr>\n",
       "    <tr>\n",
       "      <th>...</th>\n",
       "      <td>...</td>\n",
       "      <td>...</td>\n",
       "      <td>...</td>\n",
       "    </tr>\n",
       "    <tr>\n",
       "      <th>83</th>\n",
       "      <td>970738</td>\n",
       "      <td>慶龍</td>\n",
       "      <td>基隆市仁愛區南榮路187號1樓</td>\n",
       "    </tr>\n",
       "    <tr>\n",
       "      <th>84</th>\n",
       "      <td>977142</td>\n",
       "      <td>源遠</td>\n",
       "      <td>基隆市暖暖區源遠路294號296號298號1樓</td>\n",
       "    </tr>\n",
       "    <tr>\n",
       "      <th>85</th>\n",
       "      <td>981233</td>\n",
       "      <td>極品</td>\n",
       "      <td>基隆市仁愛區仁三路19號21號1樓2樓</td>\n",
       "    </tr>\n",
       "    <tr>\n",
       "      <th>86</th>\n",
       "      <td>989086</td>\n",
       "      <td>仁五</td>\n",
       "      <td>基隆市仁愛區仁五路63號1樓</td>\n",
       "    </tr>\n",
       "    <tr>\n",
       "      <th>87</th>\n",
       "      <td>990879</td>\n",
       "      <td>大武崙</td>\n",
       "      <td>基隆市安樂區基金一路381號383號1樓</td>\n",
       "    </tr>\n",
       "  </tbody>\n",
       "</table>\n",
       "<p>88 rows × 3 columns</p>\n",
       "</div>"
      ],
      "text/plain": [
       "        店號   店名                       地址\n",
       "0   112879   碇內        基隆市暖暖區源遠路158號160號\n",
       "1   117140   德信        基隆市信義區東信路50號52號1樓\n",
       "2   117896  深澳坑       基隆市信義區深澳坑路2-6號2-7號\n",
       "3   118419   聖心          基隆市中山區西定路38號40號\n",
       "4   123525   滿福      基隆市信義區深澳坑路166之30號1樓\n",
       "..     ...  ...                      ...\n",
       "83  970738   慶龍          基隆市仁愛區南榮路187號1樓\n",
       "84  977142   源遠  基隆市暖暖區源遠路294號296號298號1樓\n",
       "85  981233   極品      基隆市仁愛區仁三路19號21號1樓2樓\n",
       "86  989086   仁五           基隆市仁愛區仁五路63號1樓\n",
       "87  990879  大武崙     基隆市安樂區基金一路381號383號1樓\n",
       "\n",
       "[88 rows x 3 columns]"
      ]
     },
     "execution_count": 9,
     "metadata": {},
     "output_type": "execute_result"
    }
   ],
   "source": [
    "import pandas as pd\n",
    "sf=pd.DataFrame(shops, columns=['店號', '店名', '地址'])\n",
    "sf"
   ]
  },
  {
   "cell_type": "code",
   "execution_count": null,
   "id": "716c8187",
   "metadata": {},
   "outputs": [],
   "source": []
  }
 ],
 "metadata": {
  "kernelspec": {
   "display_name": "Python 3 (ipykernel)",
   "language": "python",
   "name": "python3"
  },
  "language_info": {
   "codemirror_mode": {
    "name": "ipython",
    "version": 3
   },
   "file_extension": ".py",
   "mimetype": "text/x-python",
   "name": "python",
   "nbconvert_exporter": "python",
   "pygments_lexer": "ipython3",
   "version": "3.11.4"
  }
 },
 "nbformat": 4,
 "nbformat_minor": 5
}
