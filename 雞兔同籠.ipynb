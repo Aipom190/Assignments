{
 "cells": [
  {
   "cell_type": "code",
   "execution_count": null,
   "id": "14fdd9b8",
   "metadata": {},
   "outputs": [],
   "source": [
    "print('How many animals are there in the cage?') #詢問籠內動物總數\n",
    "qoa=int(input())\n",
    "print('How many legs do they have?') #詢問籠內動物總腳數\n",
    "qof=int(input())\n",
    "screamingChicken=int((4*qoa-qof)/2) #計算雞的數量\n",
    "usao=qoa-screamingChicken #計算兔子的數量\n",
    "print('There are '+str(usao)+' rabbits and '+str(screamingChicken)+' chickens in the cage.') #輸出結果"
   ]
  }
 ],
 "metadata": {
  "kernelspec": {
   "display_name": "Python 3 (ipykernel)",
   "language": "python",
   "name": "python3"
  },
  "language_info": {
   "codemirror_mode": {
    "name": "ipython",
    "version": 3
   },
   "file_extension": ".py",
   "mimetype": "text/x-python",
   "name": "python",
   "nbconvert_exporter": "python",
   "pygments_lexer": "ipython3",
   "version": "3.11.4"
  }
 },
 "nbformat": 4,
 "nbformat_minor": 5
}
